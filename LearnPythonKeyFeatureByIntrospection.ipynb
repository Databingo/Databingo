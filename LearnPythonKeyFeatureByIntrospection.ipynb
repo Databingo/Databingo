{
 "cells": [
  {
   "cell_type": "markdown",
   "metadata": {},
   "source": [
    "#Learn Python Key Feature By Introspection\n",
    "省思Python"
   ]
  },
  {
   "cell_type": "markdown",
   "metadata": {},
   "source": [
    "#What is introspection?\n",
    "\n",
    "In everyday life, introspection is the act of self-examination. Introspection refers to the examination of one's own thoughts, feelings, motivations, and actions. The great philosopher Socrates spent much of his life in self-examination, encouraging his fellow Athenians to do the same. He even claimed that, for him, \"the unexamined life is not worth living.\"\n",
    "\n",
    "In computer programming, introspection refers to the ability to examine something to determine what it is, what it knows, and what it is capable of doing. Introspection gives programmers a great deal of flexibility and control. Once you've worked with a programming language that supports introspection, you may similarly feel that \"the unexamined object is not worth instantiating.\" \n",
    "\n",
    "-- Copy From [Guide to Python introspection](http://www.ibm.com/developerworks/library/l-pyint/index.html), tranlation is [here](http://www.ibm.com/developerworks/cn/linux/l-pyint/index.html)\n",
    "\n",
    "\n",
    "###什么是自省：\n",
    "在日常生活中，自省(introspection)是一种自我检查行为。自省是指对某人自身思想、情绪、动机和行为的检查。伟大的哲学家苏格拉底将生命中大部分时间用于自我检查，并鼓励他的雅典朋友们也这样做。他甚至对自己做出了这样的要求：“未经自省的生命不值得存在。”\n",
    "\n",
    "在计算机编程中，自省是指这种能力：检查某些事物以确定他是什么、他知道什么以及他能做什么。自省向程序员提供了极大的灵活性和控制力。一旦您使用了支持自省的编程语言，就会产生这样的感觉：“未经检查的对象不值得实例化。”\n",
    "\n",
    "-- 摘录自[Python 自省指南](http://www.ibm.com/developerworks/cn/linux/l-pyint/index.html)\n",
    "\n",
    "\n",
    "\n",
    "\n",
    "\n",
    "\n",
    "\n",
    "\n",
    "\n",
    "\n",
    "\n",
    "\n",
    "\n",
    "\n",
    "\n",
    "\n",
    "\n",
    "\n"
   ]
  },
  {
   "cell_type": "markdown",
   "metadata": {},
   "source": [
    "本文将通过自省的方式，一步一步检查 Python 的特性，也就是说，尽量让 Python 自己来回答我们对他提出的问题。\n",
    "以这种方式，我们直接学习 Python 的核心机制和功能。"
   ]
  },
  {
   "cell_type": "markdown",
   "metadata": {},
   "source": [
    "###Start from 0\n",
    "When we started 'python' in terminal, we can see the notation of 'type help' for more information."
   ]
  },
  {
   "cell_type": "code",
   "execution_count": 63,
   "metadata": {
    "collapsed": false
   },
   "outputs": [
    {
     "data": {
      "image/png": "[encoded data removed]",
      "text/plain": [
       "<IPython.core.display.Image object>"
      ]
     },
     "execution_count": 63,
     "metadata": {},
     "output_type": "execute_result"
    }
   ],
   "source": [
    "from IPython.display import Image\n",
    "Image(filename='help.png')"
   ]
  },
  {
   "cell_type": "markdown",
   "metadata": {},
   "source": [
    "###Following the steps"
   ]
  },
  {
   "cell_type": "code",
   "execution_count": 60,
   "metadata": {
    "collapsed": false
   },
   "outputs": [
    {
     "data": {
      "text/plain": [
       "Type help() for interactive help, or help(object) for help about object."
      ]
     },
     "execution_count": 60,
     "metadata": {},
     "output_type": "execute_result"
    }
   ],
   "source": [
    "help"
   ]
  },
  {
   "cell_type": "code",
   "execution_count": 61,
   "metadata": {
    "collapsed": false
   },
   "outputs": [
    {
     "name": "stdout",
     "output_type": "stream",
     "text": [
      "\n",
      "Welcome to Python 2.7!  This is the online help utility.\n",
      "\n",
      "If this is your first time using Python, you should definitely check out\n",
      "the tutorial on the Internet at http://docs.python.org/2.7/tutorial/.\n",
      "\n",
      "Enter the name of any module, keyword, or topic to get help on writing\n",
      "Python programs and using Python modules.  To quit this help utility and\n",
      "return to the interpreter, just type \"quit\".\n",
      "\n",
      "To get a list of available modules, keywords, or topics, type \"modules\",\n",
      "\"keywords\", or \"topics\".  Each module also comes with a one-line summary\n",
      "of what it does; to list the modules whose summaries contain a given word\n",
      "such as \"spam\", type \"modules spam\".\n",
      "\n",
      "help> quit\n",
      "\n",
      "You are now leaving help and returning to the Python interpreter.\n",
      "If you want to ask for help on a particular object directly from the\n",
      "interpreter, you can type \"help(object)\".  Executing \"help('string')\"\n",
      "has the same effect as typing a particular string at the help> prompt.\n"
     ]
    }
   ],
   "source": [
    "help()"
   ]
  },
  {
   "cell_type": "markdown",
   "metadata": {},
   "source": [
    "###Python Key words_关键字：31"
   ]
  },
  {
   "cell_type": "code",
   "execution_count": 16,
   "metadata": {
    "collapsed": false,
    "scrolled": true
   },
   "outputs": [
    {
     "name": "stdout",
     "output_type": "stream",
     "text": [
      "\n",
      "Here is a list of the Python keywords.  Enter any keyword to get more help.\n",
      "\n",
      "and                 elif                if                  print\n",
      "as                  else                import              raise\n",
      "assert              except              in                  return\n",
      "break               exec                is                  try\n",
      "class               finally             lambda              while\n",
      "continue            for                 not                 with\n",
      "def                 from                or                  yield\n",
      "del                 global              pass                \n",
      "\n"
     ]
    }
   ],
   "source": [
    "# We know the key is the most importance part of every thing, so let's check Python's Key words.\n",
    "help('keywords')"
   ]
  },
  {
   "cell_type": "markdown",
   "metadata": {},
   "source": [
    "###As mentions:\n",
    "We saw the sentence in the **help()** printed paragraph: **to list the modules whose summaries contain a given word such as \"spam\", type \"modules spam\".** "
   ]
  },
  {
   "cell_type": "code",
   "execution_count": 69,
   "metadata": {
    "collapsed": false,
    "scrolled": true
   },
   "outputs": [
    {
     "name": "stdout",
     "output_type": "stream",
     "text": [
      "\n",
      "Here is a list of matching modules.  Enter any module name to get more help.\n",
      "\n",
      "keyword - Keywords (from \"graminit.c\")\n",
      "\n"
     ]
    }
   ],
   "source": [
    "help('modules keywords')"
   ]
  },
  {
   "cell_type": "code",
   "execution_count": 26,
   "metadata": {
    "collapsed": false
   },
   "outputs": [
    {
     "name": "stdout",
     "output_type": "stream",
     "text": [
      "Help on module keyword:\n",
      "\n",
      "NAME\n",
      "    keyword - Keywords (from \"graminit.c\")\n",
      "\n",
      "FILE\n",
      "    /System/Library/Frameworks/Python.framework/Versions/2.7/lib/python2.7/keyword.py\n",
      "\n",
      "MODULE DOCS\n",
      "    http://docs.python.org/library/keyword\n",
      "\n",
      "DESCRIPTION\n",
      "    This file is automatically generated; please don't muck it up!\n",
      "    \n",
      "    To update the symbols in this file, 'cd' to the top directory of\n",
      "    the python source tree after building the interpreter and run:\n",
      "    \n",
      "        ./python Lib/keyword.py\n",
      "\n",
      "FUNCTIONS\n",
      "    iskeyword = __contains__(...)\n",
      "        x.__contains__(y) <==> y in x.\n",
      "\n",
      "DATA\n",
      "    __all__ = ['iskeyword', 'kwlist']\n",
      "    kwlist = ['and', 'as', 'assert', 'break', 'class', 'continue', 'def', ...\n",
      "\n",
      "\n"
     ]
    }
   ],
   "source": [
    "import keyword # If we want to use some modules we have to import it first\n",
    "help('keyword')#so we find keywords belong to module keyword, nmm, that's ok."
   ]
  },
  {
   "cell_type": "code",
   "execution_count": 3,
   "metadata": {
    "collapsed": false
   },
   "outputs": [
    {
     "name": "stdout",
     "output_type": "stream",
     "text": [
      "Boolean operations\n",
      "******************\n",
      "\n",
      "   or_test  ::= and_test | or_test \"or\" and_test\n",
      "   and_test ::= not_test | and_test \"and\" not_test\n",
      "   not_test ::= comparison | \"not\" not_test\n",
      "\n",
      "In the context of Boolean operations, and also when expressions are\n",
      "used by control flow statements, the following values are interpreted\n",
      "as false: ``False``, ``None``, numeric zero of all types, and empty\n",
      "strings and containers (including strings, tuples, lists,\n",
      "dictionaries, sets and frozensets).  All other values are interpreted\n",
      "as true.  (See the ``__nonzero__()`` special method for a way to\n",
      "change this.)\n",
      "\n",
      "The operator ``not`` yields ``True`` if its argument is false,\n",
      "``False`` otherwise.\n",
      "\n",
      "The expression ``x and y`` first evaluates *x*; if *x* is false, its\n",
      "value is returned; otherwise, *y* is evaluated and the resulting value\n",
      "is returned.\n",
      "\n",
      "The expression ``x or y`` first evaluates *x*; if *x* is true, its\n",
      "value is returned; otherwise, *y* is evaluated and the resulting value\n",
      "is returned.\n",
      "\n",
      "(Note that neither ``and`` nor ``or`` restrict the value and type they\n",
      "return to ``False`` and ``True``, but rather return the last evaluated\n",
      "argument. This is sometimes useful, e.g., if ``s`` is a string that\n",
      "should be replaced by a default value if it is empty, the expression\n",
      "``s or 'foo'`` yields the desired value.  Because ``not`` has to\n",
      "invent a value anyway, it does not bother to return a value of the\n",
      "same type as its argument, so e.g., ``not 'foo'`` yields ``False``,\n",
      "not ``''``.)\n",
      "\n",
      "Related help topics: EXPRESSIONS, TRUTHVALUE\n",
      "\n"
     ]
    }
   ],
   "source": [
    "help('and') # We can check the key word by this way."
   ]
  },
  {
   "cell_type": "code",
   "execution_count": 27,
   "metadata": {
    "collapsed": false,
    "scrolled": false
   },
   "outputs": [],
   "source": [
    "# We can print all the keywords document out by this piece of code if we need.\n",
    "    \n",
    "# for i in keyword.kwlist:\n",
    "#     print i.upper()\n",
    "#     print '******************'\n",
    "#     print help(i)\n",
    "#     print '************************************************************************************'"
   ]
  },
  {
   "cell_type": "markdown",
   "metadata": {},
   "source": [
    "###Libraries_所有模块"
   ]
  },
  {
   "cell_type": "code",
   "execution_count": 77,
   "metadata": {
    "collapsed": false,
    "scrolled": false
   },
   "outputs": [
    {
     "name": "stdout",
     "output_type": "stream",
     "text": [
      "\n",
      "Please wait a moment while I gather a list of all available modules...\n",
      "\n",
      "AVFoundation        _codecs_kr          filecmp             pyparsing\n",
      "Accounts            _codecs_tw          fileinput           pystache\n",
      "AddressBook         _collections        findertools         pytz\n",
      "AppKit              _csv                flask               queuelib\n",
      "AppleScriptKit      _ctypes             fnmatch             quopri\n",
      "AppleScriptObjC     _ctypes_test        formatter           random\n",
      "Audio_mac           _curses             fpformat            re\n",
      "Automator           _curses_panel       fractions           readline\n",
      "BaseHTTPServer      _elementtree        ftplib              redis\n",
      "Bastion             _functools          functools           repr\n",
      "CFNetwork           _hashlib            future_builtins     requests\n",
      "CFOpenDirectory     _heapq              gc                  resource\n",
      "CGIHTTPServer       _hotshot            genericpath         rexec\n",
      "Canvas              _io                 gensuitemodule      rfc822\n",
      "Carbon              _json               gestalt             rlcompleter\n",
      "Cocoa               _locale             getopt              rmagic\n",
      "CodeWarrior         _lsprof             getpass             robotparser\n",
      "Collaboration       _markerlib          gettext             runpy\n",
      "ColorPicker         _multibytecodec     gevent              sched\n",
      "ConfigParser        _multiprocessing    glob                scipy\n",
      "Cookie              _osx_support        gnureadline         scrapy\n",
      "CoreData            _pyio               greenlet            select\n",
      "CoreFoundation      _random             grp                 selenium\n",
      "CoreGraphics        _scproxy            gzip                sets\n",
      "CoreLocation        _socket             hashlib             setuptools\n",
      "CoreText            _sqlite3            heapq               sgmllib\n",
      "Dialog              _sre                hmac                sha\n",
      "DictionaryServices  _ssl                hotshot             shelve\n",
      "DocXMLRPCServer     _strptime           htmlentitydefs      shlex\n",
      "EasyDialogs         _struct             htmllib             shutil\n",
      "EventKit            _symtable           httplib             signal\n",
      "ExceptionHandling   _sysconfigdata      ic                  site\n",
      "Explorer            _testcapi           icglue              six\n",
      "FSEvents            _threading_local    icopen              smtpd\n",
      "FileDialog          _tkinter            idlelib             smtplib\n",
      "Finder              _warnings           ihooks              sndhdr\n",
      "FixTk               _weakref            imageop             snowballstemmer\n",
      "Foundation          _weakrefset         imaplib             socket\n",
      "FrameWork           abc                 imghdr              sphinx\n",
      "HTMLParser          aepack              imp                 sphinx_rtd_theme\n",
      "IN                  aetools             importlib           sqlite3\n",
      "IPython             aetypes             imputil             sre\n",
      "InputMethodKit      aifc                inspect             sre_compile\n",
      "InstallerPlugins    alabaster           io                  sre_constants\n",
      "InstantMessage      altgraph            itertools           sre_parse\n",
      "JavaScriptCore      antigravity         itsdangerous        ssl\n",
      "LatentSemanticMapping anydbm              jinja2              stat\n",
      "LaunchServices      applesingle         json                statvfs\n",
      "MacOS               appletrawmain       jsonschema          storemagic\n",
      "Message             appletrunner        keyword             string\n",
      "MimeWriter          argparse            lib2to3             stringold\n",
      "MiniAEFrame         argvemulator        linecache           stringprep\n",
      "Nav                 array               locale              strop\n",
      "Netscape            ast                 logging             struct\n",
      "OSATerminology      asynchat            lxml                subprocess\n",
      "OpenDirectory       asyncore            macerrors           sunau\n",
      "OpenSSL             atexit              macholib            sunaudio\n",
      "PixMapWrapper       audiodev            macostools          symbol\n",
      "PreferencePanes     audioop             macpath             sympyprinting\n",
      "PubSub              autoGIL             macresource         symtable\n",
      "PyObjCTools         autoreload          macurl2path         sys\n",
      "QTKit               babel               mailbox             sysconfig\n",
      "Quartz              backports           mailcap             syslog\n",
      "Queue               base64              mako                tabnanny\n",
      "ScreenSaver         bdb                 markdown            tarfile\n",
      "ScriptingBridge     bdist_mpkg          markupbase          telnetlib\n",
      "ScrolledText        bgenlocations       markupsafe          tempfile\n",
      "SearchKit           binascii            marshal             terminado\n",
      "ServiceManagement   binhex              math                terminalcommand\n",
      "SimpleDialog        bisect              matplotlib          termios\n",
      "SimpleHTTPServer    bokeh               md5                 test\n",
      "SimpleXMLRPCServer  bonjour             mhlib               tests\n",
      "Social              bs4                 mimetools           textwrap\n",
      "SocketServer        bsddb               mimetypes           this\n",
      "StdSuites           bsddb185            mimify              thread\n",
      "StringIO            builder             mistune             threading\n",
      "SyncServices        buildtools          mmap                time\n",
      "SystemConfiguration bundlebuilder       modulefinder        timeit\n",
      "SystemEvents        bz2                 modulegraph         tkColorChooser\n",
      "Tix                 cPickle             multifile           tkCommonDialog\n",
      "Tkconstants         cProfile            multiprocessing     tkFileDialog\n",
      "Tkdnd               cStringIO           mutex               tkFont\n",
      "Tkinter             calendar            netrc               tkMessageBox\n",
      "UserDict            certifi             new                 tkSimpleDialog\n",
      "UserList            cfmfile             nis                 toaiff\n",
      "UserString          cgi                 nntplib             token\n",
      "WebKit              cgitb               nose                tokenize\n",
      "_AE                 chunk               ntpath              tornado\n",
      "_AH                 cmath               nturl2path          trace\n",
      "_App                cmd                 numbers             traceback\n",
      "_CF                 code                numpy               ttk\n",
      "_CG                 codecs              numpydoc            tty\n",
      "_CarbonEvt          codeop              objc                turtle\n",
      "_Cm                 collections         opcode              twisted\n",
      "_Ctl                colorama            operator            types\n",
      "_Dlg                colorsys            optparse            unicodedata\n",
      "_Drag               commands            os                  unittest\n",
      "_Evt                compileall          os2emxpath          urllib\n",
      "_File               compiler            pandas              urllib2\n",
      "_Fm                 contextlib          parallelmagic       urlparse\n",
      "_Folder             cookielib           parser              user\n",
      "_Help               copy                pdb                 uu\n",
      "_IBCarbon           copy_reg            pickle              uuid\n",
      "_Icn                crypt               pickletools         videoreader\n",
      "_LWPCookieJar       cssselect           pimp                w3lib\n",
      "_Launch             csv                 pip                 warnings\n",
      "_List               ctypes              pipes               wave\n",
      "_Menu               curses              pkg_resources       weakref\n",
      "_Mlte               cythonmagic         pkgutil             webbrowser\n",
      "_MozillaCookieJar   datetime            platform            websocket\n",
      "_OSA                dateutil            plistlib            werkzeug\n",
      "_Qd                 dbhash              popen2              whichdb\n",
      "_Qdoffs             dbm                 poplib              wsgiref\n",
      "_Qt                 decimal             posix               xattr\n",
      "_Res                difflib             posixfile           xdrlib\n",
      "_Scrap              dircache            posixpath           xlrd\n",
      "_Snd                dis                 pprint              xlwt\n",
      "_TE                 distutils           profile             xml\n",
      "_Win                dl                  pstats              xmllib\n",
      "__builtin__         doctest             pty                 xmlrpclib\n",
      "__future__          docutils            ptyprocess          xxsubtype\n",
      "_abcoll             dumbdbm             pwd                 yaml\n",
      "_ast                dummy_thread        py2app              zipfile\n",
      "_bisect             dummy_threading     py_compile          zipimport\n",
      "_builtinSuites      easy_install        pyclbr              zlib\n",
      "_codecs             email               pydoc               zmq\n",
      "_codecs_cn          encodings           pydoc_data          zope\n",
      "_codecs_hk          errno               pyexpat             \n",
      "_codecs_iso2022     exceptions          pygments            \n",
      "_codecs_jp          fcntl               pylab               \n",
      "\n",
      "Enter any module name to get more help.  Or, type \"modules spam\" to search\n",
      "for modules whose descriptions contain the word \"spam\".\n",
      "\n"
     ]
    }
   ],
   "source": [
    "help('modules')"
   ]
  },
  {
   "cell_type": "markdown",
   "metadata": {},
   "source": [
    "### Built in objects_内置对象：145"
   ]
  },
  {
   "cell_type": "code",
   "execution_count": 22,
   "metadata": {
    "collapsed": false,
    "scrolled": false
   },
   "outputs": [
    {
     "data": {
      "text/plain": [
       "['ArithmeticError',\n",
       " 'AssertionError',\n",
       " 'AttributeError',\n",
       " 'BaseException',\n",
       " 'BufferError',\n",
       " 'BytesWarning',\n",
       " 'DeprecationWarning',\n",
       " 'EOFError',\n",
       " 'Ellipsis',\n",
       " 'EnvironmentError',\n",
       " 'Exception',\n",
       " 'False',\n",
       " 'FloatingPointError',\n",
       " 'FutureWarning',\n",
       " 'GeneratorExit',\n",
       " 'IOError',\n",
       " 'ImportError',\n",
       " 'ImportWarning',\n",
       " 'IndentationError',\n",
       " 'IndexError',\n",
       " 'KeyError',\n",
       " 'KeyboardInterrupt',\n",
       " 'LookupError',\n",
       " 'MemoryError',\n",
       " 'NameError',\n",
       " 'None',\n",
       " 'NotImplemented',\n",
       " 'NotImplementedError',\n",
       " 'OSError',\n",
       " 'OverflowError',\n",
       " 'PendingDeprecationWarning',\n",
       " 'ReferenceError',\n",
       " 'RuntimeError',\n",
       " 'RuntimeWarning',\n",
       " 'StandardError',\n",
       " 'StopIteration',\n",
       " 'SyntaxError',\n",
       " 'SyntaxWarning',\n",
       " 'SystemError',\n",
       " 'SystemExit',\n",
       " 'TabError',\n",
       " 'True',\n",
       " 'TypeError',\n",
       " 'UnboundLocalError',\n",
       " 'UnicodeDecodeError',\n",
       " 'UnicodeEncodeError',\n",
       " 'UnicodeError',\n",
       " 'UnicodeTranslateError',\n",
       " 'UnicodeWarning',\n",
       " 'UserWarning',\n",
       " 'ValueError',\n",
       " 'Warning',\n",
       " 'ZeroDivisionError',\n",
       " '__IPYTHON__',\n",
       " '__IPYTHON__active',\n",
       " '__debug__',\n",
       " '__doc__',\n",
       " '__import__',\n",
       " '__name__',\n",
       " '__package__',\n",
       " 'abs',\n",
       " 'all',\n",
       " 'any',\n",
       " 'apply',\n",
       " 'basestring',\n",
       " 'bin',\n",
       " 'bool',\n",
       " 'buffer',\n",
       " 'bytearray',\n",
       " 'bytes',\n",
       " 'callable',\n",
       " 'chr',\n",
       " 'classmethod',\n",
       " 'cmp',\n",
       " 'coerce',\n",
       " 'compile',\n",
       " 'complex',\n",
       " 'copyright',\n",
       " 'credits',\n",
       " 'delattr',\n",
       " 'dict',\n",
       " 'dir',\n",
       " 'divmod',\n",
       " 'dreload',\n",
       " 'enumerate',\n",
       " 'eval',\n",
       " 'execfile',\n",
       " 'file',\n",
       " 'filter',\n",
       " 'float',\n",
       " 'format',\n",
       " 'frozenset',\n",
       " 'get_ipython',\n",
       " 'getattr',\n",
       " 'globals',\n",
       " 'hasattr',\n",
       " 'hash',\n",
       " 'help',\n",
       " 'hex',\n",
       " 'id',\n",
       " 'input',\n",
       " 'int',\n",
       " 'intern',\n",
       " 'isinstance',\n",
       " 'issubclass',\n",
       " 'iter',\n",
       " 'len',\n",
       " 'license',\n",
       " 'list',\n",
       " 'locals',\n",
       " 'long',\n",
       " 'map',\n",
       " 'max',\n",
       " 'memoryview',\n",
       " 'min',\n",
       " 'next',\n",
       " 'object',\n",
       " 'oct',\n",
       " 'open',\n",
       " 'ord',\n",
       " 'pow',\n",
       " 'print',\n",
       " 'property',\n",
       " 'range',\n",
       " 'raw_input',\n",
       " 'reduce',\n",
       " 'reload',\n",
       " 'repr',\n",
       " 'reversed',\n",
       " 'round',\n",
       " 'set',\n",
       " 'setattr',\n",
       " 'slice',\n",
       " 'sorted',\n",
       " 'staticmethod',\n",
       " 'str',\n",
       " 'sum',\n",
       " 'super',\n",
       " 'tuple',\n",
       " 'type',\n",
       " 'unichr',\n",
       " 'unicode',\n",
       " 'vars',\n",
       " 'xrange',\n",
       " 'zip']"
      ]
     },
     "execution_count": 22,
     "metadata": {},
     "output_type": "execute_result"
    }
   ],
   "source": [
    "dir(__builtin__) # dir() is a bulitin mothed to check what the object have."
   ]
  },
  {
   "cell_type": "markdown",
   "metadata": {},
   "source": [
    "###Python Builtin functions_内置函数：85\n",
    "Builtin means functions that no need import anything rather than use directly."
   ]
  },
  {
   "cell_type": "code",
   "execution_count": 27,
   "metadata": {
    "collapsed": false
   },
   "outputs": [
    {
     "data": {
      "text/plain": [
       "['abs',\n",
       " 'all',\n",
       " 'any',\n",
       " 'apply',\n",
       " 'basestring',\n",
       " 'bin',\n",
       " 'bool',\n",
       " 'buffer',\n",
       " 'bytearray',\n",
       " 'bytes',\n",
       " 'callable',\n",
       " 'chr',\n",
       " 'classmethod',\n",
       " 'cmp',\n",
       " 'coerce',\n",
       " 'compile',\n",
       " 'complex',\n",
       " 'copyright',\n",
       " 'credits',\n",
       " 'delattr',\n",
       " 'dict',\n",
       " 'dir',\n",
       " 'divmod',\n",
       " 'dreload',\n",
       " 'enumerate',\n",
       " 'eval',\n",
       " 'execfile',\n",
       " 'file',\n",
       " 'filter',\n",
       " 'float',\n",
       " 'format',\n",
       " 'frozenset',\n",
       " 'get_ipython',\n",
       " 'getattr',\n",
       " 'globals',\n",
       " 'hasattr',\n",
       " 'hash',\n",
       " 'help',\n",
       " 'hex',\n",
       " 'id',\n",
       " 'input',\n",
       " 'int',\n",
       " 'intern',\n",
       " 'isinstance',\n",
       " 'issubclass',\n",
       " 'iter',\n",
       " 'len',\n",
       " 'license',\n",
       " 'list',\n",
       " 'locals',\n",
       " 'long',\n",
       " 'map',\n",
       " 'max',\n",
       " 'memoryview',\n",
       " 'min',\n",
       " 'next',\n",
       " 'object',\n",
       " 'oct',\n",
       " 'open',\n",
       " 'ord',\n",
       " 'pow',\n",
       " 'print',\n",
       " 'property',\n",
       " 'range',\n",
       " 'raw_input',\n",
       " 'reduce',\n",
       " 'reload',\n",
       " 'repr',\n",
       " 'reversed',\n",
       " 'round',\n",
       " 'set',\n",
       " 'setattr',\n",
       " 'slice',\n",
       " 'sorted',\n",
       " 'staticmethod',\n",
       " 'str',\n",
       " 'sum',\n",
       " 'super',\n",
       " 'tuple',\n",
       " 'type',\n",
       " 'unichr',\n",
       " 'unicode',\n",
       " 'vars',\n",
       " 'xrange',\n",
       " 'zip']"
      ]
     },
     "execution_count": 27,
     "metadata": {},
     "output_type": "execute_result"
    }
   ],
   "source": [
    "import string # If we want to use some modules we have to import it first\n",
    "alc = string.ascii_lowercase\n",
    "bif = [i for i in dir(__builtins__) if any(i.startswith(j) for j in alc)]\n",
    "bif"
   ]
  },
  {
   "cell_type": "code",
   "execution_count": 43,
   "metadata": {
    "collapsed": false
   },
   "outputs": [
    {
     "name": "stdout",
     "output_type": "stream",
     "text": [
      "Help on built-in function abs in module __builtin__:\n",
      "\n",
      "abs(...)\n",
      "    abs(number) -> number\n",
      "    \n",
      "    Return the absolute value of the argument.\n",
      "\n"
     ]
    }
   ],
   "source": [
    "help('abs') # We can check buildin module by this way."
   ]
  },
  {
   "cell_type": "code",
   "execution_count": 86,
   "metadata": {
    "collapsed": false
   },
   "outputs": [
    {
     "data": {
      "text/plain": [
       "['__add__',\n",
       " '__class__',\n",
       " '__contains__',\n",
       " '__delattr__',\n",
       " '__doc__',\n",
       " '__eq__',\n",
       " '__format__',\n",
       " '__ge__',\n",
       " '__getattribute__',\n",
       " '__getitem__',\n",
       " '__getnewargs__',\n",
       " '__getslice__',\n",
       " '__gt__',\n",
       " '__hash__',\n",
       " '__init__',\n",
       " '__le__',\n",
       " '__len__',\n",
       " '__lt__',\n",
       " '__mod__',\n",
       " '__mul__',\n",
       " '__ne__',\n",
       " '__new__',\n",
       " '__reduce__',\n",
       " '__reduce_ex__',\n",
       " '__repr__',\n",
       " '__rmod__',\n",
       " '__rmul__',\n",
       " '__setattr__',\n",
       " '__sizeof__',\n",
       " '__str__',\n",
       " '__subclasshook__',\n",
       " '_formatter_field_name_split',\n",
       " '_formatter_parser',\n",
       " 'capitalize',\n",
       " 'center',\n",
       " 'count',\n",
       " 'decode',\n",
       " 'encode',\n",
       " 'endswith',\n",
       " 'expandtabs',\n",
       " 'find',\n",
       " 'format',\n",
       " 'index',\n",
       " 'isalnum',\n",
       " 'isalpha',\n",
       " 'isdigit',\n",
       " 'islower',\n",
       " 'isspace',\n",
       " 'istitle',\n",
       " 'isupper',\n",
       " 'join',\n",
       " 'ljust',\n",
       " 'lower',\n",
       " 'lstrip',\n",
       " 'partition',\n",
       " 'replace',\n",
       " 'rfind',\n",
       " 'rindex',\n",
       " 'rjust',\n",
       " 'rpartition',\n",
       " 'rsplit',\n",
       " 'rstrip',\n",
       " 'split',\n",
       " 'splitlines',\n",
       " 'startswith',\n",
       " 'strip',\n",
       " 'swapcase',\n",
       " 'title',\n",
       " 'translate',\n",
       " 'upper',\n",
       " 'zfill']"
      ]
     },
     "execution_count": 86,
     "metadata": {},
     "output_type": "execute_result"
    }
   ],
   "source": [
    "dir('s') # See string's public interface."
   ]
  },
  {
   "cell_type": "code",
   "execution_count": 182,
   "metadata": {
    "collapsed": false
   },
   "outputs": [
    {
     "name": "stdout",
     "output_type": "stream",
     "text": [
      "Operator precedence\n",
      "*******************\n",
      "\n",
      "The following table summarizes the operator precedences in Python,\n",
      "from lowest precedence (least binding) to highest precedence (most\n",
      "binding). Operators in the same box have the same precedence.  Unless\n",
      "the syntax is explicitly given, operators are binary.  Operators in\n",
      "the same box group left to right (except for comparisons, including\n",
      "tests, which all have the same precedence and chain from left to right\n",
      "--- see section *Comparisons* --- and exponentiation, which groups\n",
      "from right to left).\n",
      "\n",
      "+-------------------------------------------------+---------------------------------------+\n",
      "| Operator                                        | Description                           |\n",
      "+=================================================+=======================================+\n",
      "| ``lambda``                                      | Lambda expression                     |\n",
      "+-------------------------------------------------+---------------------------------------+\n",
      "| ``if`` -- ``else``                              | Conditional expression                |\n",
      "+-------------------------------------------------+---------------------------------------+\n",
      "| ``or``                                          | Boolean OR                            |\n",
      "+-------------------------------------------------+---------------------------------------+\n",
      "| ``and``                                         | Boolean AND                           |\n",
      "+-------------------------------------------------+---------------------------------------+\n",
      "| ``not`` ``x``                                   | Boolean NOT                           |\n",
      "+-------------------------------------------------+---------------------------------------+\n",
      "| ``in``, ``not in``, ``is``, ``is not``, ``<``,  | Comparisons, including membership     |\n",
      "| ``<=``, ``>``, ``>=``, ``<>``, ``!=``, ``==``   | tests and identity tests              |\n",
      "+-------------------------------------------------+---------------------------------------+\n",
      "| ``|``                                           | Bitwise OR                            |\n",
      "+-------------------------------------------------+---------------------------------------+\n",
      "| ``^``                                           | Bitwise XOR                           |\n",
      "+-------------------------------------------------+---------------------------------------+\n",
      "| ``&``                                           | Bitwise AND                           |\n",
      "+-------------------------------------------------+---------------------------------------+\n",
      "| ``<<``, ``>>``                                  | Shifts                                |\n",
      "+-------------------------------------------------+---------------------------------------+\n",
      "| ``+``, ``-``                                    | Addition and subtraction              |\n",
      "+-------------------------------------------------+---------------------------------------+\n",
      "| ``*``, ``/``, ``//``, ``%``                     | Multiplication, division, remainder   |\n",
      "|                                                 | [8]                                   |\n",
      "+-------------------------------------------------+---------------------------------------+\n",
      "| ``+x``, ``-x``, ``~x``                          | Positive, negative, bitwise NOT       |\n",
      "+-------------------------------------------------+---------------------------------------+\n",
      "| ``**``                                          | Exponentiation [9]                    |\n",
      "+-------------------------------------------------+---------------------------------------+\n",
      "| ``x[index]``, ``x[index:index]``,               | Subscription, slicing, call,          |\n",
      "| ``x(arguments...)``, ``x.attribute``            | attribute reference                   |\n",
      "+-------------------------------------------------+---------------------------------------+\n",
      "| ``(expressions...)``, ``[expressions...]``,     | Binding or tuple display, list        |\n",
      "| ``{key: value...}``, ```expressions...```       | display, dictionary display, string   |\n",
      "|                                                 | conversion                            |\n",
      "+-------------------------------------------------+---------------------------------------+\n",
      "\n",
      "-[ Footnotes ]-\n",
      "\n",
      "[1] In Python 2.3 and later releases, a list comprehension \"leaks\" the\n",
      "    control variables of each ``for`` it contains into the containing\n",
      "    scope.  However, this behavior is deprecated, and relying on it\n",
      "    will not work in Python 3.\n",
      "\n",
      "[2] While ``abs(x%y) < abs(y)`` is true mathematically, for floats it\n",
      "    may not be true numerically due to roundoff.  For example, and\n",
      "    assuming a platform on which a Python float is an IEEE 754 double-\n",
      "    precision number, in order that ``-1e-100 % 1e100`` have the same\n",
      "    sign as ``1e100``, the computed result is ``-1e-100 + 1e100``,\n",
      "    which is numerically exactly equal to ``1e100``.  The function\n",
      "    ``math.fmod()`` returns a result whose sign matches the sign of\n",
      "    the first argument instead, and so returns ``-1e-100`` in this\n",
      "    case. Which approach is more appropriate depends on the\n",
      "    application.\n",
      "\n",
      "[3] If x is very close to an exact integer multiple of y, it's\n",
      "    possible for ``floor(x/y)`` to be one larger than ``(x-x%y)/y``\n",
      "    due to rounding.  In such cases, Python returns the latter result,\n",
      "    in order to preserve that ``divmod(x,y)[0] * y + x % y`` be very\n",
      "    close to ``x``.\n",
      "\n",
      "[4] While comparisons between unicode strings make sense at the byte\n",
      "    level, they may be counter-intuitive to users. For example, the\n",
      "    strings ``u\"\\u00C7\"`` and ``u\"\\u0043\\u0327\"`` compare differently,\n",
      "    even though they both represent the same unicode character (LATIN\n",
      "    CAPITAL LETTER C WITH CEDILLA). To compare strings in a human\n",
      "    recognizable way, compare using ``unicodedata.normalize()``.\n",
      "\n",
      "[5] The implementation computes this efficiently, without constructing\n",
      "    lists or sorting.\n",
      "\n",
      "[6] Earlier versions of Python used lexicographic comparison of the\n",
      "    sorted (key, value) lists, but this was very expensive for the\n",
      "    common case of comparing for equality.  An even earlier version of\n",
      "    Python compared dictionaries by identity only, but this caused\n",
      "    surprises because people expected to be able to test a dictionary\n",
      "    for emptiness by comparing it to ``{}``.\n",
      "\n",
      "[7] Due to automatic garbage-collection, free lists, and the dynamic\n",
      "    nature of descriptors, you may notice seemingly unusual behaviour\n",
      "    in certain uses of the ``is`` operator, like those involving\n",
      "    comparisons between instance methods, or constants.  Check their\n",
      "    documentation for more info.\n",
      "\n",
      "[8] The ``%`` operator is also used for string formatting; the same\n",
      "    precedence applies.\n",
      "\n",
      "[9] The power operator ``**`` binds less tightly than an arithmetic or\n",
      "    bitwise unary operator on its right, that is, ``2**-1`` is\n",
      "    ``0.5``.\n",
      "\n",
      "Related help topics: lambda, or, and, not, in, is, BOOLEAN, COMPARISON,\n",
      "BITWISE, SHIFTING, BINARY, FORMATTING, POWER, UNARY, ATTRIBUTES,\n",
      "SUBSCRIPTS, SLICINGS, CALLS, TUPLES, LISTS, DICTIONARIES, BACKQUOTES\n",
      "\n"
     ]
    }
   ],
   "source": [
    "help('//') # We can check Python's operators"
   ]
  },
  {
   "cell_type": "markdown",
   "metadata": {},
   "source": [
    "###Data type_数据类型：inter float string boolean\n",
    "According to the wikipedia definition, a data type is a set of vaulues, and the allowable operations on those values. Similar one object."
   ]
  },
  {
   "cell_type": "code",
   "execution_count": 64,
   "metadata": {
    "collapsed": false,
    "scrolled": false
   },
   "outputs": [
    {
     "name": "stdout",
     "output_type": "stream",
     "text": [
      "Define names for all type symbols known in the standard interpreter.\n",
      "\n",
      "Types that are part of optional modules (e.g. array) are not listed.\n",
      "\n"
     ]
    }
   ],
   "source": [
    "import types\n",
    "print types.__doc__"
   ]
  },
  {
   "cell_type": "code",
   "execution_count": 47,
   "metadata": {
    "collapsed": false
   },
   "outputs": [
    {
     "data": {
      "text/plain": [
       "['BooleanType',\n",
       " 'BufferType',\n",
       " 'BuiltinFunctionType',\n",
       " 'BuiltinMethodType',\n",
       " 'ClassType',\n",
       " 'CodeType',\n",
       " 'ComplexType',\n",
       " 'DictProxyType',\n",
       " 'DictType',\n",
       " 'DictionaryType',\n",
       " 'EllipsisType',\n",
       " 'FileType',\n",
       " 'FloatType',\n",
       " 'FrameType',\n",
       " 'FunctionType',\n",
       " 'GeneratorType',\n",
       " 'GetSetDescriptorType',\n",
       " 'InstanceType',\n",
       " 'IntType',\n",
       " 'LambdaType',\n",
       " 'ListType',\n",
       " 'LongType',\n",
       " 'MemberDescriptorType',\n",
       " 'MethodType',\n",
       " 'ModuleType',\n",
       " 'NoneType',\n",
       " 'NotImplementedType',\n",
       " 'ObjectType',\n",
       " 'SliceType',\n",
       " 'StringType',\n",
       " 'StringTypes',\n",
       " 'TracebackType',\n",
       " 'TupleType',\n",
       " 'TypeType',\n",
       " 'UnboundMethodType',\n",
       " 'UnicodeType',\n",
       " 'XRangeType',\n",
       " '__builtins__',\n",
       " '__doc__',\n",
       " '__file__',\n",
       " '__name__',\n",
       " '__package__']"
      ]
     },
     "execution_count": 47,
     "metadata": {},
     "output_type": "execute_result"
    }
   ],
   "source": [
    "dir(types)"
   ]
  },
  {
   "cell_type": "code",
   "execution_count": 72,
   "metadata": {
    "collapsed": false
   },
   "outputs": [
    {
     "name": "stdout",
     "output_type": "stream",
     "text": [
      "None\n"
     ]
    }
   ],
   "source": [
    "print (types.NoneType.__doc__)#无"
   ]
  },
  {
   "cell_type": "code",
   "execution_count": 26,
   "metadata": {
    "collapsed": false
   },
   "outputs": [
    {
     "name": "stdout",
     "output_type": "stream",
     "text": [
      "None\n"
     ]
    }
   ],
   "source": [
    "# None means non existent, really nothing. Note '' is nothing, ' ' is someting called 'empty'.\n",
    "# If a function does not explicitly return any value. Such a function will implicitly return None object.\n",
    "def function():\n",
    "    pass\n",
    "print function()"
   ]
  },
  {
   "cell_type": "code",
   "execution_count": 61,
   "metadata": {
    "collapsed": false,
    "scrolled": false
   },
   "outputs": [
    {
     "name": "stdout",
     "output_type": "stream",
     "text": [
      "bool(x) -> bool\n",
      "\n",
      "Returns True when the argument x is true, False otherwise.\n",
      "The builtins True and False are the only two instances of the class bool.\n",
      "The class bool is a subclass of the class int, and cannot be subclassed.\n"
     ]
    }
   ],
   "source": [
    "print (types.BooleanType.__doc__)#布林"
   ]
  },
  {
   "cell_type": "markdown",
   "metadata": {},
   "source": [
    "1. Boolean（布林）\n",
    "There is duality built in our world. There is a Heaven and Earth, water and fire, jing and jang, man and woman, love and hatred. In Python programming language, the Boolean datatype is a primitive datatype haveing one of two values: True or False. This is a fundamental data type. Very common in computer programs.\n",
    "  \n",
    "  Happy parents are waiting a child to be born. They have chosen a name for both possibilities. If it is going to be a boy, they might have chosen John. If it is going to be a girl, they might have chosen Victoria."
   ]
  },
  {
   "cell_type": "code",
   "execution_count": 120,
   "metadata": {
    "collapsed": false
   },
   "outputs": [
    {
     "name": "stdout",
     "output_type": "stream",
     "text": [
      "1 False\n",
      "2 False\n",
      "3 False\n",
      "4 False\n",
      "5 False\n",
      "6 False\n",
      "7 True\n",
      "8 True\n",
      "9 True\n",
      "10 True\n",
      "11 True\n"
     ]
    }
   ],
   "source": [
    "boolTest = {\n",
    "    1:bool(None),\n",
    "    2:bool(False),\n",
    "    3:bool(0),\n",
    "    4:bool(),\n",
    "    5:bool(''),\n",
    "    6:bool([]),\n",
    "    \n",
    "    7:bool(1),\n",
    "    8:bool(' '),\n",
    "    9:bool(3),\n",
    "    10:bool('Text'),\n",
    "    11:bool(True),\n",
    "    \n",
    "}\n",
    "\n",
    "for i in boolTest:\n",
    "    print i,boolTest[i]"
   ]
  },
  {
   "cell_type": "code",
   "execution_count": 80,
   "metadata": {
    "collapsed": false
   },
   "outputs": [
    {
     "name": "stdout",
     "output_type": "stream",
     "text": [
      "int(x=0) -> int or long\n",
      "int(x, base=10) -> int or long\n",
      "\n",
      "Convert a number or string to an integer, or return 0 if no arguments\n",
      "are given.  If x is floating point, the conversion truncates towards zero.\n",
      "If x is outside the integer range, the function returns a long instead.\n",
      "\n",
      "If x is not a number or if base is given, then x must be a string or\n",
      "Unicode object representing an integer literal in the given base.  The\n",
      "literal can be preceded by '+' or '-' and be surrounded by whitespace.\n",
      "The base defaults to 10.  Valid bases are 0 and 2-36.  Base 0 means to\n",
      "interpret the base from the string as an integer literal.\n",
      ">>> int('0b100', base=0)\n",
      "4\n"
     ]
    }
   ],
   "source": [
    "print (types.IntType.__doc__)#整数"
   ]
  },
  {
   "cell_type": "code",
   "execution_count": 83,
   "metadata": {
    "collapsed": false
   },
   "outputs": [
    {
     "name": "stdout",
     "output_type": "stream",
     "text": [
      "long(x=0) -> long\n",
      "long(x, base=10) -> long\n",
      "\n",
      "Convert a number or string to a long integer, or return 0L if no arguments\n",
      "are given.  If x is floating point, the conversion truncates towards zero.\n",
      "\n",
      "If x is not a number or if base is given, then x must be a string or\n",
      "Unicode object representing an integer literal in the given base.  The\n",
      "literal can be preceded by '+' or '-' and be surrounded by whitespace.\n",
      "The base defaults to 10.  Valid bases are 0 and 2-36.  Base 0 means to\n",
      "interpret the base from the string as an integer literal.\n",
      ">>> int('0b100', base=0)\n",
      "4L\n"
     ]
    }
   ],
   "source": [
    "print (types.LongType.__doc__)#长整数"
   ]
  },
  {
   "cell_type": "code",
   "execution_count": 81,
   "metadata": {
    "collapsed": false
   },
   "outputs": [
    {
     "name": "stdout",
     "output_type": "stream",
     "text": [
      "float(x) -> floating point number\n",
      "\n",
      "Convert a string or number to a floating point number, if possible.\n"
     ]
    }
   ],
   "source": [
    "print (types.FloatType.__doc__)#浮点数"
   ]
  },
  {
   "cell_type": "code",
   "execution_count": 85,
   "metadata": {
    "collapsed": false
   },
   "outputs": [
    {
     "name": "stdout",
     "output_type": "stream",
     "text": [
      "complex(real[, imag]) -> complex number\n",
      "\n",
      "Create a complex number from a real part and an optional imaginary part.\n",
      "This is equivalent to (real + imag*1j) where imag defaults to 0.\n"
     ]
    }
   ],
   "source": [
    "print (types.ComplexType.__doc__)#复合体"
   ]
  },
  {
   "cell_type": "code",
   "execution_count": 67,
   "metadata": {
    "collapsed": false
   },
   "outputs": [
    {
     "name": "stdout",
     "output_type": "stream",
     "text": [
      "str(object='') -> string\n",
      "\n",
      "Return a nice string representation of the object.\n",
      "If the argument is a string, the return value is the same object.\n"
     ]
    }
   ],
   "source": [
    "print (types.StringType.__doc__)#字符串"
   ]
  },
  {
   "cell_type": "code",
   "execution_count": 82,
   "metadata": {
    "collapsed": false
   },
   "outputs": [
    {
     "name": "stdout",
     "output_type": "stream",
     "text": [
      "unicode(object='') -> unicode object\n",
      "unicode(string[, encoding[, errors]]) -> unicode object\n",
      "\n",
      "Create a new Unicode object from the given encoded string.\n",
      "encoding defaults to the current default string encoding.\n",
      "errors can be 'strict', 'replace' or 'ignore' and defaults to 'strict'.\n"
     ]
    }
   ],
   "source": [
    "print (types.UnicodeType .__doc__)#统一码"
   ]
  },
  {
   "cell_type": "code",
   "execution_count": null,
   "metadata": {
    "collapsed": true
   },
   "outputs": [],
   "source": [
    "import ctypes\n",
    "dir(ctypes)# C语言变量类型（包括指针类型）。"
   ]
  },
  {
   "cell_type": "markdown",
   "metadata": {},
   "source": [
    "###Data structures_数据结构\n",
    "\n",
    "1. Tuple（元组）        例如：(1,2,3,abc) \n",
    "2. List（列表）         例如：[1,2,3],[1,2,3,[1,2,3],4]   \n",
    "3. Dictionary（字典）   例如：{1:\"nihao\",2:\"hello\"}   \n",
    "4. Set （集合）  \n",
    "5. Frozenset （不可变集合）\n",
    "  \n",
    "6. File（文件）         例如：f = open(a.txt,rw)   \n",
    "7. Module （模块）\n",
    "8. Class （类）\n",
    "9. Instance （实例）  \n",
    "..."
   ]
  },
  {
   "cell_type": "code",
   "execution_count": 69,
   "metadata": {
    "collapsed": false
   },
   "outputs": [
    {
     "name": "stdout",
     "output_type": "stream",
     "text": [
      "tuple() -> empty tuple\n",
      "tuple(iterable) -> tuple initialized from iterable's items\n",
      "\n",
      "If the argument is a tuple, the return value is the same object.\n"
     ]
    }
   ],
   "source": [
    "print (types.TupleType.__doc__)#元组"
   ]
  },
  {
   "cell_type": "code",
   "execution_count": 74,
   "metadata": {
    "collapsed": false
   },
   "outputs": [
    {
     "name": "stdout",
     "output_type": "stream",
     "text": [
      "list() -> new empty list\n",
      "list(iterable) -> new list initialized from iterable's items\n"
     ]
    }
   ],
   "source": [
    "print (types.ListType.__doc__)#列表 Sequence Types — str, unicode, list, tuple, bytearray, buffer, xrang"
   ]
  },
  {
   "cell_type": "code",
   "execution_count": 63,
   "metadata": {
    "collapsed": false
   },
   "outputs": [
    {
     "name": "stdout",
     "output_type": "stream",
     "text": [
      "dict() -> new empty dictionary\n",
      "dict(mapping) -> new dictionary initialized from a mapping object's\n",
      "    (key, value) pairs\n",
      "dict(iterable) -> new dictionary initialized as if via:\n",
      "    d = {}\n",
      "    for k, v in iterable:\n",
      "        d[k] = v\n",
      "dict(**kwargs) -> new dictionary initialized with the name=value pairs\n",
      "    in the keyword argument list.  For example:  dict(one=1, two=2)\n"
     ]
    }
   ],
   "source": [
    "print (types.DictionaryType.__doc__)#字典 Mapping Types "
   ]
  },
  {
   "cell_type": "code",
   "execution_count": 123,
   "metadata": {
    "collapsed": false
   },
   "outputs": [
    {
     "name": "stdout",
     "output_type": "stream",
     "text": [
      "instance(class[, dict])\n",
      "\n",
      "Create an instance without calling its __init__() method.\n",
      "The class must be a classic class.\n",
      "If present, dict must be a dictionary or None.\n"
     ]
    }
   ],
   "source": [
    "print (types.InstanceType .__doc__)#实例"
   ]
  },
  {
   "cell_type": "code",
   "execution_count": 121,
   "metadata": {
    "collapsed": false
   },
   "outputs": [
    {
     "name": "stdout",
     "output_type": "stream",
     "text": [
      "classobj(name, bases, dict)\n",
      "\n",
      "Create a class object.  The name must be a string; the second argument\n",
      "a tuple of classes, and the third a dictionary.\n"
     ]
    }
   ],
   "source": [
    "print (types.ClassType.__doc__)#类"
   ]
  },
  {
   "cell_type": "code",
   "execution_count": 124,
   "metadata": {
    "collapsed": false
   },
   "outputs": [
    {
     "name": "stdout",
     "output_type": "stream",
     "text": [
      "module(name[, doc])\n",
      "\n",
      "Create a module object.\n",
      "The name must be a string; the optional doc argument can have any type.\n"
     ]
    }
   ],
   "source": [
    "print (types.ModuleType.__doc__)#模块（木头）"
   ]
  },
  {
   "cell_type": "code",
   "execution_count": 87,
   "metadata": {
    "collapsed": false
   },
   "outputs": [
    {
     "name": "stdout",
     "output_type": "stream",
     "text": [
      "file(name[, mode[, buffering]]) -> file object\n",
      "\n",
      "Open a file.  The mode can be 'r', 'w' or 'a' for reading (default),\n",
      "writing or appending.  The file will be created if it doesn't exist\n",
      "when opened for writing or appending; it will be truncated when\n",
      "opened for writing.  Add a 'b' to the mode for binary files.\n",
      "Add a '+' to the mode to allow simultaneous reading and writing.\n",
      "If the buffering argument is given, 0 means unbuffered, 1 means line\n",
      "buffered, and larger numbers specify the buffer size.  The preferred way\n",
      "to open a file is with the builtin open() function.\n",
      "Add a 'U' to mode to open the file for input with universal newline\n",
      "support.  Any line ending in the input file will be seen as a '\\n'\n",
      "in Python.  Also, a file so opened gains the attribute 'newlines';\n",
      "the value for this attribute is one of None (no newline read yet),\n",
      "'\\r', '\\n', '\\r\\n' or a tuple containing all the newline types seen.\n",
      "\n",
      "'U' cannot be combined with 'w' or '+' mode.\n",
      "\n"
     ]
    }
   ],
   "source": [
    "print (types.FileType.__doc__)#文件"
   ]
  },
  {
   "cell_type": "markdown",
   "metadata": {},
   "source": [
    "###Decorator_装饰器"
   ]
  },
  {
   "cell_type": "markdown",
   "metadata": {},
   "source": [
    "###Iterator_迭代器"
   ]
  },
  {
   "cell_type": "markdown",
   "metadata": {},
   "source": [
    "**PEP234** defining iterators:\n",
    "\n",
    "1. An object can be iterated over with \"for\" if it implements\n",
    "   __iter__() or __getitem__().\n",
    "\n",
    "2. An object can function as an iterator if it implements next().\n",
    "\n",
    "如果一个container是iterable，那么这个container拥有__iter__()方法，此方法将转化container成iterator\n",
    "\n",
    "(在Python的内置数据类型中，list，tuple，dictionary，set都是container)"
   ]
  },
  {
   "cell_type": "markdown",
   "metadata": {},
   "source": [
    "###Generator_生成器\n",
    "\n",
    "Python’s generators provide a convenient way to implement the iterator protocol. If a container object’s __iter__() method is implemented as a generator, it will automatically return an iterator object (technically, a generator object) supplying the __iter__() and next() methods. More information about generators can be found in the documentation for the yield expression."
   ]
  },
  {
   "cell_type": "code",
   "execution_count": 136,
   "metadata": {
    "collapsed": false
   },
   "outputs": [
    {
     "name": "stdout",
     "output_type": "stream",
     "text": [
      "\n",
      "Here is a list of matching modules.  Enter any module name to get more help.\n",
      "\n",
      "\n"
     ]
    }
   ],
   "source": [
    "help('modules literator')"
   ]
  },
  {
   "cell_type": "code",
   "execution_count": 31,
   "metadata": {
    "collapsed": false
   },
   "outputs": [
    {
     "data": {
      "text/plain": [
       "'2.7.6 (default, Sep  9 2014, 15:04:36) \\n[GCC 4.2.1 Compatible Apple LLVM 6.0 (clang-600.0.39)]'"
      ]
     },
     "execution_count": 31,
     "metadata": {},
     "output_type": "execute_result"
    }
   ],
   "source": [
    "import sys\n",
    "sys.version"
   ]
  },
  {
   "cell_type": "code",
   "execution_count": 28,
   "metadata": {
    "collapsed": false
   },
   "outputs": [
    {
     "name": "stdout",
     "output_type": "stream",
     "text": [
      "\n",
      "Here is a list of available topics.  Enter any topic name to get more help.\n",
      "\n",
      "ASSERTION           DEBUGGING           LITERALS            SEQUENCEMETHODS2\n",
      "ASSIGNMENT          DELETION            LOOPING             SEQUENCES\n",
      "ATTRIBUTEMETHODS    DICTIONARIES        MAPPINGMETHODS      SHIFTING\n",
      "ATTRIBUTES          DICTIONARYLITERALS  MAPPINGS            SLICINGS\n",
      "AUGMENTEDASSIGNMENT DYNAMICFEATURES     METHODS             SPECIALATTRIBUTES\n",
      "BACKQUOTES          ELLIPSIS            MODULES             SPECIALIDENTIFIERS\n",
      "BASICMETHODS        EXCEPTIONS          NAMESPACES          SPECIALMETHODS\n",
      "BINARY              EXECUTION           NONE                STRINGMETHODS\n",
      "BITWISE             EXPRESSIONS         NUMBERMETHODS       STRINGS\n",
      "BOOLEAN             FILES               NUMBERS             SUBSCRIPTS\n",
      "CALLABLEMETHODS     FLOAT               OBJECTS             TRACEBACKS\n",
      "CALLS               FORMATTING          OPERATORS           TRUTHVALUE\n",
      "CLASSES             FRAMEOBJECTS        PACKAGES            TUPLELITERALS\n",
      "CODEOBJECTS         FRAMES              POWER               TUPLES\n",
      "COERCIONS           FUNCTIONS           PRECEDENCE          TYPEOBJECTS\n",
      "COMPARISON          IDENTIFIERS         PRINTING            TYPES\n",
      "COMPLEX             IMPORTING           PRIVATENAMES        UNARY\n",
      "CONDITIONAL         INTEGER             RETURNING           UNICODE\n",
      "CONTEXTMANAGERS     LISTLITERALS        SCOPING             \n",
      "CONVERSIONS         LISTS               SEQUENCEMETHODS1    \n",
      "\n"
     ]
    }
   ],
   "source": [
    "help('topics')"
   ]
  },
  {
   "cell_type": "code",
   "execution_count": 30,
   "metadata": {
    "collapsed": false,
    "scrolled": false
   },
   "outputs": [
    {
     "name": "stdout",
     "output_type": "stream",
     "text": [
      "Mutable Sequence Types\n",
      "**********************\n",
      "\n",
      "List and ``bytearray`` objects support additional operations that\n",
      "allow in-place modification of the object. Other mutable sequence\n",
      "types (when added to the language) should also support these\n",
      "operations. Strings and tuples are immutable sequence types: such\n",
      "objects cannot be modified once created. The following operations are\n",
      "defined on mutable sequence types (where *x* is an arbitrary object):\n",
      "\n",
      "+--------------------------------+----------------------------------+-----------------------+\n",
      "| Operation                      | Result                           | Notes                 |\n",
      "+================================+==================================+=======================+\n",
      "| ``s[i] = x``                   | item *i* of *s* is replaced by   |                       |\n",
      "|                                | *x*                              |                       |\n",
      "+--------------------------------+----------------------------------+-----------------------+\n",
      "| ``s[i:j] = t``                 | slice of *s* from *i* to *j* is  |                       |\n",
      "|                                | replaced by the contents of the  |                       |\n",
      "|                                | iterable *t*                     |                       |\n",
      "+--------------------------------+----------------------------------+-----------------------+\n",
      "| ``del s[i:j]``                 | same as ``s[i:j] = []``          |                       |\n",
      "+--------------------------------+----------------------------------+-----------------------+\n",
      "| ``s[i:j:k] = t``               | the elements of ``s[i:j:k]`` are | (1)                   |\n",
      "|                                | replaced by those of *t*         |                       |\n",
      "+--------------------------------+----------------------------------+-----------------------+\n",
      "| ``del s[i:j:k]``               | removes the elements of          |                       |\n",
      "|                                | ``s[i:j:k]`` from the list       |                       |\n",
      "+--------------------------------+----------------------------------+-----------------------+\n",
      "| ``s.append(x)``                | same as ``s[len(s):len(s)] =     | (2)                   |\n",
      "|                                | [x]``                            |                       |\n",
      "+--------------------------------+----------------------------------+-----------------------+\n",
      "| ``s.extend(x)``                | same as ``s[len(s):len(s)] = x`` | (3)                   |\n",
      "+--------------------------------+----------------------------------+-----------------------+\n",
      "| ``s.count(x)``                 | return number of *i*'s for which |                       |\n",
      "|                                | ``s[i] == x``                    |                       |\n",
      "+--------------------------------+----------------------------------+-----------------------+\n",
      "| ``s.index(x[, i[, j]])``       | return smallest *k* such that    | (4)                   |\n",
      "|                                | ``s[k] == x`` and ``i <= k < j`` |                       |\n",
      "+--------------------------------+----------------------------------+-----------------------+\n",
      "| ``s.insert(i, x)``             | same as ``s[i:i] = [x]``         | (5)                   |\n",
      "+--------------------------------+----------------------------------+-----------------------+\n",
      "| ``s.pop([i])``                 | same as ``x = s[i]; del s[i];    | (6)                   |\n",
      "|                                | return x``                       |                       |\n",
      "+--------------------------------+----------------------------------+-----------------------+\n",
      "| ``s.remove(x)``                | same as ``del s[s.index(x)]``    | (4)                   |\n",
      "+--------------------------------+----------------------------------+-----------------------+\n",
      "| ``s.reverse()``                | reverses the items of *s* in     | (7)                   |\n",
      "|                                | place                            |                       |\n",
      "+--------------------------------+----------------------------------+-----------------------+\n",
      "| ``s.sort([cmp[, key[,          | sort the items of *s* in place   | (7)(8)(9)(10)         |\n",
      "| reverse]]])``                  |                                  |                       |\n",
      "+--------------------------------+----------------------------------+-----------------------+\n",
      "\n",
      "Notes:\n",
      "\n",
      "1. *t* must have the same length as the slice it is  replacing.\n",
      "\n",
      "2. The C implementation of Python has historically accepted multiple\n",
      "   parameters and implicitly joined them into a tuple; this no longer\n",
      "   works in Python 2.0.  Use of this misfeature has been deprecated\n",
      "   since Python 1.4.\n",
      "\n",
      "3. *x* can be any iterable object.\n",
      "\n",
      "4. Raises ``ValueError`` when *x* is not found in *s*. When a negative\n",
      "   index is passed as the second or third parameter to the ``index()``\n",
      "   method, the list length is added, as for slice indices.  If it is\n",
      "   still negative, it is truncated to zero, as for slice indices.\n",
      "\n",
      "   Changed in version 2.3: Previously, ``index()`` didn't have\n",
      "   arguments for specifying start and stop positions.\n",
      "\n",
      "5. When a negative index is passed as the first parameter to the\n",
      "   ``insert()`` method, the list length is added, as for slice\n",
      "   indices.  If it is still negative, it is truncated to zero, as for\n",
      "   slice indices.\n",
      "\n",
      "   Changed in version 2.3: Previously, all negative indices were\n",
      "   truncated to zero.\n",
      "\n",
      "6. The ``pop()`` method is only supported by the list and array types.\n",
      "   The optional argument *i* defaults to ``-1``, so that by default\n",
      "   the last item is removed and returned.\n",
      "\n",
      "7. The ``sort()`` and ``reverse()`` methods modify the list in place\n",
      "   for economy of space when sorting or reversing a large list.  To\n",
      "   remind you that they operate by side effect, they don't return the\n",
      "   sorted or reversed list.\n",
      "\n",
      "8. The ``sort()`` method takes optional arguments for controlling the\n",
      "   comparisons.\n",
      "\n",
      "   *cmp* specifies a custom comparison function of two arguments (list\n",
      "   items) which should return a negative, zero or positive number\n",
      "   depending on whether the first argument is considered smaller than,\n",
      "   equal to, or larger than the second argument: ``cmp=lambda x,y:\n",
      "   cmp(x.lower(), y.lower())``.  The default value is ``None``.\n",
      "\n",
      "   *key* specifies a function of one argument that is used to extract\n",
      "   a comparison key from each list element: ``key=str.lower``.  The\n",
      "   default value is ``None``.\n",
      "\n",
      "   *reverse* is a boolean value.  If set to ``True``, then the list\n",
      "   elements are sorted as if each comparison were reversed.\n",
      "\n",
      "   In general, the *key* and *reverse* conversion processes are much\n",
      "   faster than specifying an equivalent *cmp* function.  This is\n",
      "   because *cmp* is called multiple times for each list element while\n",
      "   *key* and *reverse* touch each element only once.  Use\n",
      "   ``functools.cmp_to_key()`` to convert an old-style *cmp* function\n",
      "   to a *key* function.\n",
      "\n",
      "   Changed in version 2.3: Support for ``None`` as an equivalent to\n",
      "   omitting *cmp* was added.\n",
      "\n",
      "   Changed in version 2.4: Support for *key* and *reverse* was added.\n",
      "\n",
      "9. Starting with Python 2.3, the ``sort()`` method is guaranteed to be\n",
      "   stable.  A sort is stable if it guarantees not to change the\n",
      "   relative order of elements that compare equal --- this is helpful\n",
      "   for sorting in multiple passes (for example, sort by department,\n",
      "   then by salary grade).\n",
      "\n",
      "10. **CPython implementation detail:** While a list is being sorted,\n",
      "    the effect of attempting to mutate, or even inspect, the list is\n",
      "    undefined.  The C implementation of Python 2.3 and newer makes the\n",
      "    list appear empty for the duration, and raises ``ValueError`` if\n",
      "    it can detect that the list has been mutated during a sort.\n",
      "\n",
      "Related help topics: LISTLITERALS\n",
      "\n"
     ]
    }
   ],
   "source": [
    "help('LISTS')"
   ]
  },
  {
   "cell_type": "code",
   "execution_count": 133,
   "metadata": {
    "collapsed": false
   },
   "outputs": [
    {
     "data": {
      "text/html": [
       "<div style=\"max-height:1000px;max-width:1500px;overflow:auto;\">\n",
       "<table border=\"1\" class=\"dataframe\">\n",
       "  <thead>\n",
       "    <tr style=\"text-align: right;\">\n",
       "      <th></th>\n",
       "      <th>Name_名称</th>\n",
       "      <th>Function_功能</th>\n",
       "      <th>Example_举例</th>\n",
       "    </tr>\n",
       "  </thead>\n",
       "  <tbody>\n",
       "    <tr>\n",
       "      <th>0</th>\n",
       "      <td>abs</td>\n",
       "      <td>Return absolute value of a number_返回参数的绝对值</td>\n",
       "      <td></td>\n",
       "    </tr>\n",
       "    <tr>\n",
       "      <th>1</th>\n",
       "      <td>all</td>\n",
       "      <td>Return True if all items are True_返回参数全部为真的布林值</td>\n",
       "      <td>all(5&gt;j for j in [3,4,2])&gt;&gt;&gt;True</td>\n",
       "    </tr>\n",
       "    <tr>\n",
       "      <th>2</th>\n",
       "      <td>any</td>\n",
       "      <td>Reture Ture is any items is True_返回参数任意为真的布林值</td>\n",
       "      <td>any(j&gt;5 for j in [3,4,2])&gt;&gt;&gt;False</td>\n",
       "    </tr>\n",
       "    <tr>\n",
       "      <th>3</th>\n",
       "      <td>apply</td>\n",
       "      <td></td>\n",
       "      <td></td>\n",
       "    </tr>\n",
       "    <tr>\n",
       "      <th>4</th>\n",
       "      <td>basestring</td>\n",
       "      <td></td>\n",
       "      <td></td>\n",
       "    </tr>\n",
       "    <tr>\n",
       "      <th>5</th>\n",
       "      <td>bin</td>\n",
       "      <td></td>\n",
       "      <td></td>\n",
       "    </tr>\n",
       "    <tr>\n",
       "      <th>6</th>\n",
       "      <td>bool</td>\n",
       "      <td></td>\n",
       "      <td></td>\n",
       "    </tr>\n",
       "    <tr>\n",
       "      <th>7</th>\n",
       "      <td>buffer</td>\n",
       "      <td></td>\n",
       "      <td></td>\n",
       "    </tr>\n",
       "    <tr>\n",
       "      <th>8</th>\n",
       "      <td>bytearray</td>\n",
       "      <td></td>\n",
       "      <td></td>\n",
       "    </tr>\n",
       "    <tr>\n",
       "      <th>9</th>\n",
       "      <td>bytes</td>\n",
       "      <td></td>\n",
       "      <td></td>\n",
       "    </tr>\n",
       "    <tr>\n",
       "      <th>10</th>\n",
       "      <td>callable</td>\n",
       "      <td></td>\n",
       "      <td></td>\n",
       "    </tr>\n",
       "    <tr>\n",
       "      <th>11</th>\n",
       "      <td>chr</td>\n",
       "      <td>Return a string by the ASCII number_返回 ASCII 编码对应的字符</td>\n",
       "      <td>chr(255)</td>\n",
       "    </tr>\n",
       "    <tr>\n",
       "      <th>12</th>\n",
       "      <td>classmethod</td>\n",
       "      <td></td>\n",
       "      <td></td>\n",
       "    </tr>\n",
       "    <tr>\n",
       "      <th>13</th>\n",
       "      <td>cmp</td>\n",
       "      <td>Return 1,0,-1 for compare &gt;=&lt;</td>\n",
       "      <td>cmp(1,2)</td>\n",
       "    </tr>\n",
       "    <tr>\n",
       "      <th>14</th>\n",
       "      <td>coerce</td>\n",
       "      <td></td>\n",
       "      <td></td>\n",
       "    </tr>\n",
       "    <tr>\n",
       "      <th>15</th>\n",
       "      <td>compile</td>\n",
       "      <td></td>\n",
       "      <td></td>\n",
       "    </tr>\n",
       "    <tr>\n",
       "      <th>16</th>\n",
       "      <td>complex</td>\n",
       "      <td></td>\n",
       "      <td></td>\n",
       "    </tr>\n",
       "    <tr>\n",
       "      <th>17</th>\n",
       "      <td>copyright</td>\n",
       "      <td></td>\n",
       "      <td></td>\n",
       "    </tr>\n",
       "    <tr>\n",
       "      <th>18</th>\n",
       "      <td>credits</td>\n",
       "      <td></td>\n",
       "      <td></td>\n",
       "    </tr>\n",
       "    <tr>\n",
       "      <th>19</th>\n",
       "      <td>delattr</td>\n",
       "      <td></td>\n",
       "      <td></td>\n",
       "    </tr>\n",
       "    <tr>\n",
       "      <th>20</th>\n",
       "      <td>dict</td>\n",
       "      <td></td>\n",
       "      <td></td>\n",
       "    </tr>\n",
       "    <tr>\n",
       "      <th>21</th>\n",
       "      <td>dir</td>\n",
       "      <td>Return scope names or objects attributes, used in inspect_返回域变量名或对象属性列表，用于自省</td>\n",
       "      <td>dir(),dir(Inter)</td>\n",
       "    </tr>\n",
       "    <tr>\n",
       "      <th>22</th>\n",
       "      <td>divmod</td>\n",
       "      <td></td>\n",
       "      <td></td>\n",
       "    </tr>\n",
       "    <tr>\n",
       "      <th>23</th>\n",
       "      <td>dreload</td>\n",
       "      <td></td>\n",
       "      <td></td>\n",
       "    </tr>\n",
       "    <tr>\n",
       "      <th>24</th>\n",
       "      <td>enumerate</td>\n",
       "      <td>Return tuples of count and value_返回编号与值得元组</td>\n",
       "      <td>list(enumerate(list('abc')))&gt;&gt;&gt;[(0, 'a'), (1, 'b'), (2, 'c')]</td>\n",
       "    </tr>\n",
       "    <tr>\n",
       "      <th>25</th>\n",
       "      <td>eval</td>\n",
       "      <td></td>\n",
       "      <td></td>\n",
       "    </tr>\n",
       "    <tr>\n",
       "      <th>26</th>\n",
       "      <td>execfile</td>\n",
       "      <td></td>\n",
       "      <td></td>\n",
       "    </tr>\n",
       "    <tr>\n",
       "      <th>27</th>\n",
       "      <td>file</td>\n",
       "      <td></td>\n",
       "      <td></td>\n",
       "    </tr>\n",
       "    <tr>\n",
       "      <th>28</th>\n",
       "      <td>filter</td>\n",
       "      <td></td>\n",
       "      <td></td>\n",
       "    </tr>\n",
       "    <tr>\n",
       "      <th>29</th>\n",
       "      <td>float</td>\n",
       "      <td></td>\n",
       "      <td></td>\n",
       "    </tr>\n",
       "    <tr>\n",
       "      <th>30</th>\n",
       "      <td>format</td>\n",
       "      <td></td>\n",
       "      <td></td>\n",
       "    </tr>\n",
       "    <tr>\n",
       "      <th>31</th>\n",
       "      <td>frozenset</td>\n",
       "      <td></td>\n",
       "      <td></td>\n",
       "    </tr>\n",
       "    <tr>\n",
       "      <th>32</th>\n",
       "      <td>get_ipython</td>\n",
       "      <td></td>\n",
       "      <td></td>\n",
       "    </tr>\n",
       "    <tr>\n",
       "      <th>33</th>\n",
       "      <td>getattr</td>\n",
       "      <td></td>\n",
       "      <td></td>\n",
       "    </tr>\n",
       "    <tr>\n",
       "      <th>34</th>\n",
       "      <td>globals</td>\n",
       "      <td></td>\n",
       "      <td></td>\n",
       "    </tr>\n",
       "    <tr>\n",
       "      <th>35</th>\n",
       "      <td>hasattr</td>\n",
       "      <td></td>\n",
       "      <td></td>\n",
       "    </tr>\n",
       "    <tr>\n",
       "      <th>36</th>\n",
       "      <td>hash</td>\n",
       "      <td>Return the hash value_返回哈希值</td>\n",
       "      <td>hash(1)==hash(1.0)&gt;&gt;&gt;True</td>\n",
       "    </tr>\n",
       "    <tr>\n",
       "      <th>37</th>\n",
       "      <td>help</td>\n",
       "      <td></td>\n",
       "      <td></td>\n",
       "    </tr>\n",
       "    <tr>\n",
       "      <th>38</th>\n",
       "      <td>hex</td>\n",
       "      <td></td>\n",
       "      <td></td>\n",
       "    </tr>\n",
       "    <tr>\n",
       "      <th>39</th>\n",
       "      <td>id</td>\n",
       "      <td>Return object's unique number during its lifetime_返回对象唯一编号</td>\n",
       "      <td></td>\n",
       "    </tr>\n",
       "    <tr>\n",
       "      <th>40</th>\n",
       "      <td>input</td>\n",
       "      <td></td>\n",
       "      <td></td>\n",
       "    </tr>\n",
       "    <tr>\n",
       "      <th>41</th>\n",
       "      <td>int</td>\n",
       "      <td></td>\n",
       "      <td></td>\n",
       "    </tr>\n",
       "    <tr>\n",
       "      <th>42</th>\n",
       "      <td>intern</td>\n",
       "      <td></td>\n",
       "      <td></td>\n",
       "    </tr>\n",
       "    <tr>\n",
       "      <th>43</th>\n",
       "      <td>isinstance</td>\n",
       "      <td></td>\n",
       "      <td></td>\n",
       "    </tr>\n",
       "    <tr>\n",
       "      <th>44</th>\n",
       "      <td>issubclass</td>\n",
       "      <td></td>\n",
       "      <td></td>\n",
       "    </tr>\n",
       "    <tr>\n",
       "      <th>45</th>\n",
       "      <td>iter</td>\n",
       "      <td>Return a literator_返回一个迭代器</td>\n",
       "      <td></td>\n",
       "    </tr>\n",
       "    <tr>\n",
       "      <th>46</th>\n",
       "      <td>len</td>\n",
       "      <td>Return the length of object_返回对象长度</td>\n",
       "      <td></td>\n",
       "    </tr>\n",
       "    <tr>\n",
       "      <th>47</th>\n",
       "      <td>license</td>\n",
       "      <td></td>\n",
       "      <td></td>\n",
       "    </tr>\n",
       "    <tr>\n",
       "      <th>48</th>\n",
       "      <td>list</td>\n",
       "      <td></td>\n",
       "      <td></td>\n",
       "    </tr>\n",
       "    <tr>\n",
       "      <th>49</th>\n",
       "      <td>locals</td>\n",
       "      <td></td>\n",
       "      <td></td>\n",
       "    </tr>\n",
       "    <tr>\n",
       "      <th>50</th>\n",
       "      <td>long</td>\n",
       "      <td></td>\n",
       "      <td></td>\n",
       "    </tr>\n",
       "    <tr>\n",
       "      <th>51</th>\n",
       "      <td>map</td>\n",
       "      <td>Apply function to everyitem and return a list of results</td>\n",
       "      <td>map(len,list('abc'))&gt;&gt;&gt;[1,1,1]</td>\n",
       "    </tr>\n",
       "    <tr>\n",
       "      <th>52</th>\n",
       "      <td>max</td>\n",
       "      <td></td>\n",
       "      <td></td>\n",
       "    </tr>\n",
       "    <tr>\n",
       "      <th>53</th>\n",
       "      <td>memoryview</td>\n",
       "      <td></td>\n",
       "      <td></td>\n",
       "    </tr>\n",
       "    <tr>\n",
       "      <th>54</th>\n",
       "      <td>min</td>\n",
       "      <td></td>\n",
       "      <td></td>\n",
       "    </tr>\n",
       "    <tr>\n",
       "      <th>55</th>\n",
       "      <td>next</td>\n",
       "      <td></td>\n",
       "      <td></td>\n",
       "    </tr>\n",
       "    <tr>\n",
       "      <th>56</th>\n",
       "      <td>object</td>\n",
       "      <td></td>\n",
       "      <td></td>\n",
       "    </tr>\n",
       "    <tr>\n",
       "      <th>57</th>\n",
       "      <td>oct</td>\n",
       "      <td></td>\n",
       "      <td></td>\n",
       "    </tr>\n",
       "    <tr>\n",
       "      <th>58</th>\n",
       "      <td>open</td>\n",
       "      <td></td>\n",
       "      <td></td>\n",
       "    </tr>\n",
       "    <tr>\n",
       "      <th>59</th>\n",
       "      <td>ord</td>\n",
       "      <td></td>\n",
       "      <td></td>\n",
       "    </tr>\n",
       "    <tr>\n",
       "      <th>60</th>\n",
       "      <td>pow</td>\n",
       "      <td></td>\n",
       "      <td></td>\n",
       "    </tr>\n",
       "    <tr>\n",
       "      <th>61</th>\n",
       "      <td>print</td>\n",
       "      <td></td>\n",
       "      <td></td>\n",
       "    </tr>\n",
       "    <tr>\n",
       "      <th>62</th>\n",
       "      <td>property</td>\n",
       "      <td></td>\n",
       "      <td></td>\n",
       "    </tr>\n",
       "    <tr>\n",
       "      <th>63</th>\n",
       "      <td>range</td>\n",
       "      <td></td>\n",
       "      <td></td>\n",
       "    </tr>\n",
       "    <tr>\n",
       "      <th>64</th>\n",
       "      <td>raw_input</td>\n",
       "      <td></td>\n",
       "      <td></td>\n",
       "    </tr>\n",
       "    <tr>\n",
       "      <th>65</th>\n",
       "      <td>reduce</td>\n",
       "      <td></td>\n",
       "      <td></td>\n",
       "    </tr>\n",
       "    <tr>\n",
       "      <th>66</th>\n",
       "      <td>reload</td>\n",
       "      <td></td>\n",
       "      <td></td>\n",
       "    </tr>\n",
       "    <tr>\n",
       "      <th>67</th>\n",
       "      <td>repr</td>\n",
       "      <td></td>\n",
       "      <td></td>\n",
       "    </tr>\n",
       "    <tr>\n",
       "      <th>68</th>\n",
       "      <td>reversed</td>\n",
       "      <td></td>\n",
       "      <td></td>\n",
       "    </tr>\n",
       "    <tr>\n",
       "      <th>69</th>\n",
       "      <td>round</td>\n",
       "      <td></td>\n",
       "      <td></td>\n",
       "    </tr>\n",
       "    <tr>\n",
       "      <th>70</th>\n",
       "      <td>set</td>\n",
       "      <td></td>\n",
       "      <td></td>\n",
       "    </tr>\n",
       "    <tr>\n",
       "      <th>71</th>\n",
       "      <td>setattr</td>\n",
       "      <td></td>\n",
       "      <td></td>\n",
       "    </tr>\n",
       "    <tr>\n",
       "      <th>72</th>\n",
       "      <td>slice</td>\n",
       "      <td></td>\n",
       "      <td></td>\n",
       "    </tr>\n",
       "    <tr>\n",
       "      <th>73</th>\n",
       "      <td>sorted</td>\n",
       "      <td></td>\n",
       "      <td></td>\n",
       "    </tr>\n",
       "    <tr>\n",
       "      <th>74</th>\n",
       "      <td>staticmethod</td>\n",
       "      <td></td>\n",
       "      <td></td>\n",
       "    </tr>\n",
       "    <tr>\n",
       "      <th>75</th>\n",
       "      <td>str</td>\n",
       "      <td></td>\n",
       "      <td></td>\n",
       "    </tr>\n",
       "    <tr>\n",
       "      <th>76</th>\n",
       "      <td>sum</td>\n",
       "      <td></td>\n",
       "      <td></td>\n",
       "    </tr>\n",
       "    <tr>\n",
       "      <th>77</th>\n",
       "      <td>super</td>\n",
       "      <td></td>\n",
       "      <td></td>\n",
       "    </tr>\n",
       "    <tr>\n",
       "      <th>78</th>\n",
       "      <td>tuple</td>\n",
       "      <td></td>\n",
       "      <td></td>\n",
       "    </tr>\n",
       "    <tr>\n",
       "      <th>79</th>\n",
       "      <td>type</td>\n",
       "      <td></td>\n",
       "      <td></td>\n",
       "    </tr>\n",
       "    <tr>\n",
       "      <th>80</th>\n",
       "      <td>unichr</td>\n",
       "      <td></td>\n",
       "      <td></td>\n",
       "    </tr>\n",
       "    <tr>\n",
       "      <th>81</th>\n",
       "      <td>unicode</td>\n",
       "      <td></td>\n",
       "      <td></td>\n",
       "    </tr>\n",
       "    <tr>\n",
       "      <th>82</th>\n",
       "      <td>vars</td>\n",
       "      <td></td>\n",
       "      <td></td>\n",
       "    </tr>\n",
       "    <tr>\n",
       "      <th>83</th>\n",
       "      <td>xrange</td>\n",
       "      <td></td>\n",
       "      <td></td>\n",
       "    </tr>\n",
       "    <tr>\n",
       "      <th>84</th>\n",
       "      <td>zip</td>\n",
       "      <td></td>\n",
       "      <td></td>\n",
       "    </tr>\n",
       "  </tbody>\n",
       "</table>\n",
       "</div>"
      ],
      "text/plain": [
       "         Name_名称  \\\n",
       "0            abs   \n",
       "1            all   \n",
       "2            any   \n",
       "3          apply   \n",
       "4     basestring   \n",
       "5            bin   \n",
       "6           bool   \n",
       "7         buffer   \n",
       "8      bytearray   \n",
       "9          bytes   \n",
       "10      callable   \n",
       "11           chr   \n",
       "12   classmethod   \n",
       "13           cmp   \n",
       "14        coerce   \n",
       "15       compile   \n",
       "16       complex   \n",
       "17     copyright   \n",
       "18       credits   \n",
       "19       delattr   \n",
       "20          dict   \n",
       "21           dir   \n",
       "22        divmod   \n",
       "23       dreload   \n",
       "24     enumerate   \n",
       "25          eval   \n",
       "26      execfile   \n",
       "27          file   \n",
       "28        filter   \n",
       "29         float   \n",
       "30        format   \n",
       "31     frozenset   \n",
       "32   get_ipython   \n",
       "33       getattr   \n",
       "34       globals   \n",
       "35       hasattr   \n",
       "36          hash   \n",
       "37          help   \n",
       "38           hex   \n",
       "39            id   \n",
       "40         input   \n",
       "41           int   \n",
       "42        intern   \n",
       "43    isinstance   \n",
       "44    issubclass   \n",
       "45          iter   \n",
       "46           len   \n",
       "47       license   \n",
       "48          list   \n",
       "49        locals   \n",
       "50          long   \n",
       "51           map   \n",
       "52           max   \n",
       "53    memoryview   \n",
       "54           min   \n",
       "55          next   \n",
       "56        object   \n",
       "57           oct   \n",
       "58          open   \n",
       "59           ord   \n",
       "60           pow   \n",
       "61         print   \n",
       "62      property   \n",
       "63         range   \n",
       "64     raw_input   \n",
       "65        reduce   \n",
       "66        reload   \n",
       "67          repr   \n",
       "68      reversed   \n",
       "69         round   \n",
       "70           set   \n",
       "71       setattr   \n",
       "72         slice   \n",
       "73        sorted   \n",
       "74  staticmethod   \n",
       "75           str   \n",
       "76           sum   \n",
       "77         super   \n",
       "78         tuple   \n",
       "79          type   \n",
       "80        unichr   \n",
       "81       unicode   \n",
       "82          vars   \n",
       "83        xrange   \n",
       "84           zip   \n",
       "\n",
       "                                                                     Function_功能  \\\n",
       "0                                     Return absolute value of a number_返回参数的绝对值   \n",
       "1                                 Return True if all items are True_返回参数全部为真的布林值   \n",
       "2                                  Reture Ture is any items is True_返回参数任意为真的布林值   \n",
       "3                                                                                  \n",
       "4                                                                                  \n",
       "5                                                                                  \n",
       "6                                                                                  \n",
       "7                                                                                  \n",
       "8                                                                                  \n",
       "9                                                                                  \n",
       "10                                                                                 \n",
       "11                          Return a string by the ASCII number_返回 ASCII 编码对应的字符   \n",
       "12                                                                                 \n",
       "13                                                 Return 1,0,-1 for compare >=<   \n",
       "14                                                                                 \n",
       "15                                                                                 \n",
       "16                                                                                 \n",
       "17                                                                                 \n",
       "18                                                                                 \n",
       "19                                                                                 \n",
       "20                                                                                 \n",
       "21  Return scope names or objects attributes, used in inspect_返回域变量名或对象属性列表，用于自省   \n",
       "22                                                                                 \n",
       "23                                                                                 \n",
       "24                                    Return tuples of count and value_返回编号与值得元组   \n",
       "25                                                                                 \n",
       "26                                                                                 \n",
       "27                                                                                 \n",
       "28                                                                                 \n",
       "29                                                                                 \n",
       "30                                                                                 \n",
       "31                                                                                 \n",
       "32                                                                                 \n",
       "33                                                                                 \n",
       "34                                                                                 \n",
       "35                                                                                 \n",
       "36                                                   Return the hash value_返回哈希值   \n",
       "37                                                                                 \n",
       "38                                                                                 \n",
       "39                    Return object's unique number during its lifetime_返回对象唯一编号   \n",
       "40                                                                                 \n",
       "41                                                                                 \n",
       "42                                                                                 \n",
       "43                                                                                 \n",
       "44                                                                                 \n",
       "45                                                    Return a literator_返回一个迭代器   \n",
       "46                                            Return the length of object_返回对象长度   \n",
       "47                                                                                 \n",
       "48                                                                                 \n",
       "49                                                                                 \n",
       "50                                                                                 \n",
       "51                      Apply function to everyitem and return a list of results   \n",
       "52                                                                                 \n",
       "53                                                                                 \n",
       "54                                                                                 \n",
       "55                                                                                 \n",
       "56                                                                                 \n",
       "57                                                                                 \n",
       "58                                                                                 \n",
       "59                                                                                 \n",
       "60                                                                                 \n",
       "61                                                                                 \n",
       "62                                                                                 \n",
       "63                                                                                 \n",
       "64                                                                                 \n",
       "65                                                                                 \n",
       "66                                                                                 \n",
       "67                                                                                 \n",
       "68                                                                                 \n",
       "69                                                                                 \n",
       "70                                                                                 \n",
       "71                                                                                 \n",
       "72                                                                                 \n",
       "73                                                                                 \n",
       "74                                                                                 \n",
       "75                                                                                 \n",
       "76                                                                                 \n",
       "77                                                                                 \n",
       "78                                                                                 \n",
       "79                                                                                 \n",
       "80                                                                                 \n",
       "81                                                                                 \n",
       "82                                                                                 \n",
       "83                                                                                 \n",
       "84                                                                                 \n",
       "\n",
       "                                                       Example_举例  \n",
       "0                                                                  \n",
       "1                                all(5>j for j in [3,4,2])>>>True  \n",
       "2                               any(j>5 for j in [3,4,2])>>>False  \n",
       "3                                                                  \n",
       "4                                                                  \n",
       "5                                                                  \n",
       "6                                                                  \n",
       "7                                                                  \n",
       "8                                                                  \n",
       "9                                                                  \n",
       "10                                                                 \n",
       "11                                                       chr(255)  \n",
       "12                                                                 \n",
       "13                                                       cmp(1,2)  \n",
       "14                                                                 \n",
       "15                                                                 \n",
       "16                                                                 \n",
       "17                                                                 \n",
       "18                                                                 \n",
       "19                                                                 \n",
       "20                                                                 \n",
       "21                                               dir(),dir(Inter)  \n",
       "22                                                                 \n",
       "23                                                                 \n",
       "24  list(enumerate(list('abc')))>>>[(0, 'a'), (1, 'b'), (2, 'c')]  \n",
       "25                                                                 \n",
       "26                                                                 \n",
       "27                                                                 \n",
       "28                                                                 \n",
       "29                                                                 \n",
       "30                                                                 \n",
       "31                                                                 \n",
       "32                                                                 \n",
       "33                                                                 \n",
       "34                                                                 \n",
       "35                                                                 \n",
       "36                                      hash(1)==hash(1.0)>>>True  \n",
       "37                                                                 \n",
       "38                                                                 \n",
       "39                                                                 \n",
       "40                                                                 \n",
       "41                                                                 \n",
       "42                                                                 \n",
       "43                                                                 \n",
       "44                                                                 \n",
       "45                                                                 \n",
       "46                                                                 \n",
       "47                                                                 \n",
       "48                                                                 \n",
       "49                                                                 \n",
       "50                                                                 \n",
       "51                                 map(len,list('abc'))>>>[1,1,1]  \n",
       "52                                                                 \n",
       "53                                                                 \n",
       "54                                                                 \n",
       "55                                                                 \n",
       "56                                                                 \n",
       "57                                                                 \n",
       "58                                                                 \n",
       "59                                                                 \n",
       "60                                                                 \n",
       "61                                                                 \n",
       "62                                                                 \n",
       "63                                                                 \n",
       "64                                                                 \n",
       "65                                                                 \n",
       "66                                                                 \n",
       "67                                                                 \n",
       "68                                                                 \n",
       "69                                                                 \n",
       "70                                                                 \n",
       "71                                                                 \n",
       "72                                                                 \n",
       "73                                                                 \n",
       "74                                                                 \n",
       "75                                                                 \n",
       "76                                                                 \n",
       "77                                                                 \n",
       "78                                                                 \n",
       "79                                                                 \n",
       "80                                                                 \n",
       "81                                                                 \n",
       "82                                                                 \n",
       "83                                                                 \n",
       "84                                                                 "
      ]
     },
     "execution_count": 133,
     "metadata": {},
     "output_type": "execute_result"
    }
   ],
   "source": [
    "import string\n",
    "alc = string.ascii_lowercase\n",
    "bif = [i for i in dir(__builtins__) if any(i.startswith(j) for j in alc)]\n",
    "bif\n",
    "\n",
    "import pandas as pd\n",
    "pd.set_option('display.max_rows',100) \n",
    "pd.set_option('display.max_colwidth',100) \n",
    "y = pd.DataFrame({'Name_名称':bif,'Function_功能':list(' '*85), 'Example_举例':list(' '*85)}, columns=['Name_名称','Function_功能','Example_举例'])\n",
    "y.iloc[0,1]='Return absolute value of a number_返回参数的绝对值'; y.iloc[0,2]=''\n",
    "y.iloc[1,1]='Return True if all items are True_返回参数全部为真的布林值'; y.iloc[1,2]='all(5>j for j in [3,4,2])>>>True'\n",
    "y.iloc[2,1]='Reture Ture is any items is True_返回参数任意为真的布林值'; y.iloc[2,2]='any(j>5 for j in [3,4,2])>>>False'\n",
    "y.iloc[11,1]='Return a string by the ASCII number_返回 ASCII 编码对应的字符'; y.iloc[11,2]='chr(255)'\n",
    "y.iloc[13,1]='Return 1,0,-1 for compare >=<'; y.iloc[13,2]='cmp(1,2)'\n",
    "y.iloc[21,1]='Return scope names or object''s attributes, used in inspect_返回域变量名或对象属性列表，用于自省'; y.iloc[21,2]='dir(),dir(Inter)'\n",
    "y.iloc[24,1]='Return tuples of count and value_返回编号与值得元组'; y.iloc[24,2]=\"list(enumerate(list('abc')))>>>[(0, 'a'), (1, 'b'), (2, 'c')]\"\n",
    "y.iloc[36,1]='Return the hash value_返回哈希值'; y.iloc[36,2]='hash(1)==hash(1.0)>>>True'\n",
    "y.iloc[39,1]=\"Return object's unique number during its lifetime_返回对象唯一编号\"; y.iloc[39,2]=''\n",
    "y.iloc[45,1]='Return a literator_返回一个迭代器'; y.iloc[45,2]=''\n",
    "y.iloc[46,1]='Return the length of object_返回对象长度'; y.iloc[46,2]=''\n",
    "y.iloc[51,1]='Apply function to everyitem and return a list of results'; y.iloc[51,2]=\"map(len,list('abc'))>>>[1,1,1]\"\n",
    "\n",
    "y"
   ]
  }
 ],
 "metadata": {
  "kernelspec": {
   "display_name": "Python 2",
   "language": "python",
   "name": "python2"
  },
  "language_info": {
   "codemirror_mode": {
    "name": "ipython",
    "version": 2
   },
   "file_extension": ".py",
   "mimetype": "text/x-python",
   "name": "python",
   "nbconvert_exporter": "python",
   "pygments_lexer": "ipython2",
   "version": "2.7.6"
  }
 },
 "nbformat": 4,
 "nbformat_minor": 0
}
