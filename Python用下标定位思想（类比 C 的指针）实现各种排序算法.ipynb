{
 "cells": [
  {
   "cell_type": "markdown",
   "metadata": {},
   "source": [
    "#Python：用下标思想（类比 C 的指针）实现若干排序算法\n",
    "###基本概念\n",
    "1. **稳定排序和非稳定排序**\n",
    "相等的数经过排序后，保持排序之前的相对次序，这种排序方法是稳定的，反之，就是非稳定的。\n",
    "2. **内排序和外排序**\n",
    "在排序过程中，所有需要排序的数都在内存，称为内排序，反之，只有部分被调入内存，称为外排序。\n",
    "3. **算法的时间复杂度和空间复杂度**  \n",
    "时间复杂度指执行算法所需要得计算工作量。  \n",
    "空间复杂度指执行算法所需要的内存空间。"
   ]
  },
  {
   "cell_type": "markdown",
   "metadata": {},
   "source": [
    "###一、选择排序\n",
    "- 输入：序列数集、序列数集的元素个数\n",
    "- 算法思想简单描述：\n",
    "在要排序的一组数中，选出最小的一个数与第一个位置的数交换；然后再剩下的数当中再找最小的与第二个位置的数交换，如此循环到倒数第二个数和最后一个数比较为止。算法复杂度 O(n2) 平方阶。  "
   ]
  },
  {
   "cell_type": "code",
   "execution_count": null,
   "metadata": {
    "collapsed": true
   },
   "outputs": [],
   "source": [
    "x = list(range(10**5,0,-1))\n",
    "n = len(x)\n",
    "\n",
    "def select_sort(x,n):#1 loops, best of 3: |10min 17s per loop| @x = list(range(10**5,0,-1))\n",
    "    \n",
    "    for i in range(n-1):# 要选择0至倒数第二个数作为选定操作数\n",
    "        \n",
    "        min = i# 假定当前位数i为最小，进行比较后自动调整\n",
    "        \n",
    "        for j in range(i+1, n):# 循环选定剩余数与当下最小数进行比较\n",
    "            if x[j] < x[i]:\n",
    "                min = j# 如果选定剩余数比当下最小数小，则更换min的值为选定剩余数的下标j。\n",
    "                \n",
    "            if min != i:# 如果min变动了，就交换数据。\n",
    "                t = x[i]\n",
    "                x[i] = x[j]\n",
    "                x[j] = t\n",
    "    return x"
   ]
  },
  {
   "cell_type": "markdown",
   "metadata": {},
   "source": [
    "###二、直接插入排序\n",
    "- 输入：序列数集、序列数集的元素个数\n",
    "- 算法思想简单描述\n",
    "在要排序的一组数中，假设前面（n-1)[n>=2] 个数已经是排好顺序的，现在要把第n个数插到前面的有序数中，使得这n个数也是排好顺序的。如此反复循环，直到全部排好顺序。算法时间复杂度O(n2)平方阶。"
   ]
  },
  {
   "cell_type": "code",
   "execution_count": null,
   "metadata": {
    "collapsed": true
   },
   "outputs": [],
   "source": [
    "x = list(range(10**5,0,-1))\n",
    "n = len(x)\n",
    "\n",
    "def inset_sort(x,n): #best of 3: |1min 55s per loop| @x = list(range(10**5,0,-1))\n",
    "    \n",
    "    for i in range(1,n):\n",
    "        \n",
    "        t = x[i]#记录 X 第二个位置的值，第一个位置假定为已经排好的区间。\n",
    "        \n",
    "        for j in range(i-1,-1,-1):#设定已排好序的区间，并从后向前与x[i]循环比较\n",
    "            \n",
    "            if x[j]> t:# 若选定位置若大于x[i]，就与x[i]互换。\n",
    "                \n",
    "                x[j+1]=x[j]\n",
    "                x[j] = t\n",
    "                j = j-1 #在区间内向前推进一个位置\n",
    "                \n",
    "            else: #若选定位置<= x[i],说明x[i]已经到位,跳出在已排序区间内的排序循环。\n",
    "                break\n",
    "    return x"
   ]
  },
  {
   "cell_type": "markdown",
   "metadata": {},
   "source": [
    "###三、冒泡排序\n",
    "- 输入：序列数集、序列数集的元素个数\n",
    "- 算法思想简单描述：在要排序的一组数中，对当前还未排好序的范围内的全部数，自下而上对相邻的两个数依次进行比较和调整，让较大的数往下沉，较小的往上冒。即：每当两相邻的数比较后发现他们的排序与排序要求相反时，就将他们互换。算法的时间复杂度O(n2)平方阶。"
   ]
  },
  {
   "cell_type": "code",
   "execution_count": 8,
   "metadata": {
    "collapsed": true
   },
   "outputs": [],
   "source": [
    "x = list(range(10**5,0,-1))\n",
    "n = len(x)\n",
    "                     # CPU times: user |29min 58s| @x = list(range(10**5,0,-1))\n",
    "def bubble_sort(x,n):#1 loops, best of 3: |5.27 s per loop| @x = list(range(10**4,0,-1))\n",
    "    \n",
    "    m=0 #将要冒泡第一小的元素到第一个位置0\n",
    "    \n",
    "    while m<n-1: #最后一个要冒泡填充的位置是n-2    \n",
    "        \n",
    "        for i in range(n-1,m,-1):#从需要选定的区间取值与其前位进行比较\n",
    "            \n",
    "            if x[i]<x[i-1]:#比较选定位置与其前位的值，如果选定的小就上冒。\n",
    "                \n",
    "                t=x[i-1]#交换值\n",
    "                x[i-1]=x[i]\n",
    "                x[i]=t\n",
    "        m=m+1 #将要冒泡填充的位置加1.\n",
    "        -2\n",
    "    return x"
   ]
  },
  {
   "cell_type": "markdown",
   "metadata": {},
   "source": [
    "###四、希尔排序\n",
    "- 输入：序列数集、序列数集的元素个数\n",
    "- 算法思想简单描述：在直接插入排序算法中，每次插入一个数，使有序序列只增加1个节点，并且对插入下一个数没有提供任何帮助。如果比较相隔较远距离（称为增量）的数，使得数移动时能跨过多个元素，则进行一次比较就可能消除多个元素交换。D.L.shell 于1959年实现了这一算法思想。算法先将要排序的一组数按某个增量 d 分成若干组，然后再用一个较小的增量对它们进行分组，在每组中再进行排序。当增量减到1时，整个要排序的数被分成一组，排序完成。时间复杂度约O(n3/2)。\n",
    "- 下面的函数初次取序列的一半为增量，以后每次减半，直到增量为1。"
   ]
  },
  {
   "cell_type": "code",
   "execution_count": 11,
   "metadata": {
    "collapsed": true
   },
   "outputs": [],
   "source": [
    "x = list(range(10**5,-1,-1))\n",
    "n = len(x)\n",
    "                    # 1 loops, best of 3: |4.99 s per loop| @x = list(range(10**6,-1,-1))\n",
    "def shell_sort(x,n):# 1 loops, best of 3: |371 ms per loop| @x = list(range(10**5,-1,-1))\n",
    "    \n",
    "    add = n/2 #设定初始步长为序列的一半\n",
    "    \n",
    "    while add: # 如果 add 成立\n",
    "        \n",
    "        for i in range(n):\n",
    "            t = x[i] #取一个元素\n",
    "            k = i    #取元素下标\n",
    "            \n",
    "            while k >= add and x[k-add] >t: #若元素在第一个步长之后，且它前位一步长的元素值大于它\n",
    "                \n",
    "                x[k] = x[k-add] #换成前位元素值\n",
    "                \n",
    "                k -= add #取前一个步长的下标值\n",
    "                \n",
    "            x[k]=t # 前位元素值换成哨兵元素值。\n",
    "            \n",
    "        # Python statement: a if test else b\n",
    "        \n",
    "        add = add/2 if add/2 else (0 if add==1 else 1) #下一个步长\n",
    "    return x "
   ]
  },
  {
   "cell_type": "markdown",
   "metadata": {},
   "source": [
    "###五、快速排序\n",
    "- 输入：开始坐标，结束坐标，序列数\n",
    "- 算法思想简单描述： 快速排序是对冒泡排序的一种本质改进。它的基本思想是通过一趟扫描后，使得排序序列的长度能大幅地减少。在冒泡排序中，一次扫描只能确保峰值的数移到正确位置，而待排序序列的长度可能只减少1。快速排序通过一趟扫描，就能确保某个数（以它为基准点）的左边各数都比它小，右边各数都比它大。然后又用同样地方法处理它左右两边的数。由C.A.R.Hoare于1962年提出的。理想情况的时间复杂度为O(nlog2n)线性对数阶，最坏O(n2)平方阶。"
   ]
  },
  {
   "cell_type": "code",
   "execution_count": null,
   "metadata": {
    "collapsed": true
   },
   "outputs": [],
   "source": [
    "# 算法的本质就是线性逻辑，大家不要觉得线性逻辑多难或或深奥，其实就是一根筋的做完一个过程，西方机械文明全建基于这个线性逻辑。\n",
    "\n",
    "# 如何强调都不为过。\n",
    "\n",
    "# 这就是西方文明的秘密。\n",
    "\n",
    "# 如果一个事情做不好，可以先用一个小数目（如10个）实验线性解决方案，成立之后，再扩大规模。\n",
    "\n",
    "import sys   #调整Python最大递归深度\n",
    "sys.setrecursionlimit(100000000)\n",
    "\n",
    "def quick_sort(start,end, x):#1 loops, best of 3: 6.43 s per loop @x = list(range(10**4,-1,-1)) @10**5 kernal dead\n",
    "    #设定递归返回条件，就是\n",
    "    if start > end :\n",
    "         return \n",
    "    #以首元素为基准\n",
    "    pivot = x[start]\n",
    "    left,right = start, end\n",
    "    while (left!=right):\n",
    "        \n",
    "        #从右边核取小于基准的元素下标，大于等于则指针前移\n",
    "        \n",
    "        while(x[right]>=pivot and left<right):\n",
    "            right -=1\n",
    "            \n",
    "        #从左边核取大于基准的元素下标，小于等于则指针后移\n",
    "        \n",
    "        while(x[left]<=pivot and left<right):\n",
    "            left +=1\n",
    "            \n",
    "        #若未过界，交换两个元素\n",
    "        \n",
    "        if (left<right):\n",
    "            x[left],x[right]=x[right],x[left]\n",
    "            \n",
    "        #交换基准与两指针相遇处元素\n",
    "        \n",
    "    if left == right:\n",
    "        x[start]=x[left]\n",
    "        x[left]=pivot\n",
    "        \n",
    "    #继续排序基准左边\n",
    "    quick_sort(start, left-1, x)\n",
    "    \n",
    "    #继续排序基准右边\n",
    "    quick_sort(right+1, end, x)\n",
    "\n",
    "    \n",
    "x = list(range(10**2,-1,-1)) \n",
    "start=0\n",
    "end=len(x)-1\n",
    "quick_sort(start,end,x)\n",
    "print x"
   ]
  },
  {
   "cell_type": "markdown",
   "metadata": {},
   "source": [
    "###当列表元素是100000十万时，运行时间如下：\n",
    "1. 希尔排序 371毫秒\n",
    "2. 插入排序 1分55秒\n",
    "3. 选择排序 10分17秒\n",
    "4. 冒泡排序 29分58秒\n",
    "5. 快速排序 Python kernal崩溃\n",
    "\n",
    "\n",
    "(1s秒 = 1000ms毫秒 = 1,000,000μs微秒 = 1,000,000,000ns纳秒 = 1,000,000,000,000ps皮秒)"
   ]
  },
  {
   "cell_type": "markdown",
   "metadata": {},
   "source": [
    "#附录\n",
    "\n",
    "- **时间频度**  \n",
    "一个算法中的语句执行次数称为语句频度或时间频度，记为 T(n), 其中 n 称为问题规模。\n",
    "\n",
    "\n",
    "- **时间复杂度**  \n",
    "若有某个辅助函数 f(n), 使得当 n 趋近无穷大时，T(n)/f(n) 的极限值为不等于零的常数，则称 T(n) 是 f(n) 的同数量级函数。   \n",
    "记作 T(n) = O(f(n)), 称 O(f(n)) 为算法的渐进时间复杂度，简称时间复杂度。  \n",
    "（O 表示量级（order), 可以理解为时间频度 T(n) 的同级函数）  \n",
    "\n",
    "\n",
    "- **标注**  \n",
    "渐进记号  |Θ| O | o | Ω | w |  \n",
    "相当之于  |=| <=| < | >=| > |\n",
    "\n",
    "#### 按数量级递增排列，常见的时间复杂度有：\n",
    "- 常数阶 O(1) @表示算法的运行时间为常量。\n",
    "- 对数阶 O(log2n) @表示为二分查找算法。(如果a的x次方等于N(a>0且 a 不等于 1)，那么数x叫做以a为底N的对数(logarithm)，记 x=logaN.其中，a叫做对数的底数，N叫做真数)\n",
    "- 线性阶 O(n) @表示为线性算法。\n",
    "- 线性对数阶 O(nlog2n)\n",
    "- 平方阶 O(n2) @对数组进行排序的各种简单算法，如直接插入排序。\n",
    "- 立方阶 O(n3) @做两个n阶矩阵的乘法运算。\n",
    "- k次方阶 O(nk)\n",
    "- 指数阶  O(2n) @求具有n个元素集合的所有子集的算法。\n",
    "\n",
    "随着问题规模 n 的不断增大，上述时间复杂度不断增大，算法的执行效率越低。在 Ipython 中，可用 %%timeit 来测试算法运行时间。"
   ]
  }
 ],
 "metadata": {
  "kernelspec": {
   "display_name": "Python 2",
   "language": "python",
   "name": "python2"
  },
  "language_info": {
   "codemirror_mode": {
    "name": "ipython",
    "version": 2
   },
   "file_extension": ".py",
   "mimetype": "text/x-python",
   "name": "python",
   "nbconvert_exporter": "python",
   "pygments_lexer": "ipython2",
   "version": "2.7.6"
  }
 },
 "nbformat": 4,
 "nbformat_minor": 0
}
