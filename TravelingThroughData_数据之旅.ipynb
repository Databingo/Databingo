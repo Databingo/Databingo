{
 "cells": [
  {
   "cell_type": "markdown",
   "metadata": {},
   "source": [
    "#旅行者的生涯\n",
    "The Life Of Traveller\n",
    "###每一次看电影都是一次心灵的旅行，那就是为什么人们那么喜欢这种娱乐方式。人们都不想隅于当下，那么就让我们以一个超然物外的旅行者的姿态，生活在这个世界上吧。\n",
    "Everytime we see a movie is a travel of soul, and that's why people like this kind of entertainment so much. Nobody want to be cornered in one place, so let's living in this world with the attitude of a fly traveller.\n",
    "#数据之旅\n",
    "Traveling Through Data\n",
    "###Databingo_数据宾戈想要做什么？那就是以数据为中心创造价值，分为三个模块，掌握数据、提供数据、美化数据。如下图：\n",
    "What's the Datagingo want to do? Say create value based on data, includ three modules: HandData, ProvideData and BeautificationData. Show as the figure below:"
   ]
  },
  {
   "cell_type": "code",
   "execution_count": 57,
   "metadata": {
    "collapsed": false
   },
   "outputs": [
    {
     "data": {
      "text/html": [
       "<div style=\"max-height:1000px;max-width:1500px;overflow:auto;\">\n",
       "<table border=\"1\" class=\"dataframe\">\n",
       "  <thead>\n",
       "    <tr style=\"text-align: right;\">\n",
       "      <th></th>\n",
       "      <th>HandData_掌握数据</th>\n",
       "      <th>ProvideData_提供数据</th>\n",
       "      <th>BeautificationData_美化数据</th>\n",
       "    </tr>\n",
       "  </thead>\n",
       "  <tbody>\n",
       "    <tr>\n",
       "      <th>Tool_工具</th>\n",
       "      <td>Scrape</td>\n",
       "      <td>Pandas</td>\n",
       "      <td>Matplotlib + IOS</td>\n",
       "    </tr>\n",
       "    <tr>\n",
       "      <th>Aim_目的</th>\n",
       "      <td>HighQualityDataSource_优质数据源</td>\n",
       "      <td>DataAnalyseTool_数据分析工具</td>\n",
       "      <td>ApplyAndBeautification_应用与美化</td>\n",
       "    </tr>\n",
       "    <tr>\n",
       "      <th>Measures_指标</th>\n",
       "      <td>VisitWeight_访问权重</td>\n",
       "      <td>Convenience_便利性</td>\n",
       "      <td>PreciseAndClean_精准整洁</td>\n",
       "    </tr>\n",
       "  </tbody>\n",
       "</table>\n",
       "</div>"
      ],
      "text/plain": [
       "                           HandData_掌握数据        ProvideData_提供数据  \\\n",
       "Tool_工具                           Scrape                  Pandas   \n",
       "Aim_目的       HighQualityDataSource_优质数据源  DataAnalyseTool_数据分析工具   \n",
       "Measures_指标             VisitWeight_访问权重         Convenience_便利性   \n",
       "\n",
       "                  BeautificationData_美化数据  \n",
       "Tool_工具                  Matplotlib + IOS  \n",
       "Aim_目的       ApplyAndBeautification_应用与美化  \n",
       "Measures_指标          PreciseAndClean_精准整洁  "
      ]
     },
     "execution_count": 57,
     "metadata": {},
     "output_type": "execute_result"
    }
   ],
   "source": [
    "import pandas as pd\n",
    "indexS = ['HandData_掌握数据','ProvideData_提供数据','BeautificationData_美化数据']\n",
    "indexF = ['Tool_工具','Aim_目的','Measures_指标']\n",
    "a = pd.Series(['Scrape','Pandas','Matplotlib + IOS'], index=indexS)\n",
    "b = pd.Series(['HighQualityDataSource_优质数据源','DataAnalyseTool_数据分析工具','ApplyAndBeautification_应用与美化'], index=indexS)\n",
    "c = pd.Series(['VisitWeight_访问权重','Convenience_便利性','PreciseAndClean_精准整洁'], index=indexS)\n",
    "x = pd.DataFrame([a,b,c],index=indexF)\n",
    "\n",
    "x"
   ]
  },
  {
   "cell_type": "markdown",
   "metadata": {},
   "source": [
    "###请注意： Databingo_数据宾戈将 IOS 也划归美化数据模块，因为在 Databingo 看来，桌面、苹果、安卓等客户端只不过是将数据以准确的、及时的、极致美观的形态呈现出来而已。\n",
    "Please notice that Databingo puts IOS into the module of BeautificationData, because in the opinion of Databing, all the clients, desktop, Apple, Android etc, are just present the data in a precise on-time extreme-nice way."
   ]
  },
  {
   "cell_type": "code",
   "execution_count": null,
   "metadata": {
    "collapsed": true
   },
   "outputs": [],
   "source": []
  }
 ],
 "metadata": {
  "kernelspec": {
   "display_name": "Python 2",
   "language": "python",
   "name": "python2"
  },
  "language_info": {
   "codemirror_mode": {
    "name": "ipython",
    "version": 2
   },
   "file_extension": ".py",
   "mimetype": "text/x-python",
   "name": "python",
   "nbconvert_exporter": "python",
   "pygments_lexer": "ipython2",
   "version": "2.7.6"
  }
 },
 "nbformat": 4,
 "nbformat_minor": 0
}
