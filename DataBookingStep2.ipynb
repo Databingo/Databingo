{
 "cells": [
  {
   "cell_type": "markdown",
   "metadata": {},
   "source": [
    "#数据定制"
   ]
  },
  {
   "cell_type": "markdown",
   "metadata": {},
   "source": [
    "##步骤2清洗"
   ]
  },
  {
   "cell_type": "markdown",
   "metadata": {},
   "source": [
    "对于一份有价值的数据，我们首先要清洗它，剔除错误的数据条，规避干扰信息，这样才能使后续的挖掘工作顺利展开。"
   ]
  },
  {
   "cell_type": "code",
   "execution_count": 1,
   "metadata": {
    "collapsed": false
   },
   "outputs": [],
   "source": [
    "import pandas as pd #导入 pandas 数据分析库\n",
    "\n",
    "df = pd.read_csv('/Users/chengang/Desktop/merged_data.csv',error_bad_lines=False,low_memory=False)# 导入 csv 数据，忽略错误行\n",
    "df.to_csv(\"/Users/chengang/Desktop/merged_data1.csv\")# 保存清洗后的数据到 csv 文件"
   ]
  },
  {
   "cell_type": "markdown",
   "metadata": {},
   "source": [
    "以上是一个最基本的清洗过程：首先导入数据并剔除错误条目，在本案例中，主要就是剔除列数错误的数据条，然后将清洗好的数据重新导入一个CSV文本。"
   ]
  },
  {
   "cell_type": "markdown",
   "metadata": {},
   "source": [
    "##步骤3挖掘\n",
    "干净的数据就位之后，接下来就是准备数据分析环境了。"
   ]
  },
  {
   "cell_type": "code",
   "execution_count": 111,
   "metadata": {
    "collapsed": true
   },
   "outputs": [],
   "source": [
    "#coding=utf8\n",
    "import numpy as np #导入 numpy 数学分析库\n",
    "import matplotlib # 导入 matplotlib 数学图像化库\n",
    "import matplotlib.pyplot as plt # 导入图像生成器\n",
    "from matplotlib import font_manager # 导入字体管理器\n",
    "from matplotlib import rcParams # 导入 matplotlib 参数设置器\n",
    "#导入notebook图像显示交互环境（#不可写在%号后面）\n",
    "%matplotlib inline"
   ]
  },
  {
   "cell_type": "markdown",
   "metadata": {},
   "source": [
    "本案例的数据分析环境，主要是 pandas 数据分析库, 同时依赖 numpy, matplotlib, ipython 三个第三方库。\n",
    "\n",
    "1. pandas 是主要数据分析模块；    \n",
    "2. numpy 是数学计算的模块；   \n",
    "3. matplotlib 是数学图像化输出的模块；   \n",
    "4. Ipython 的 notebook 模式负责输入输入的整合显示；   \n",
    "\n",
    "值得一提的是，Ipython notebook 可以将程序的输入(In)和程序的输出(Out)视为一个单元Cell, 用户与 Python 的交互过程可以动态、顺序的显示在浏览器中；对于图像，用 **%matplotlib inline** 语句将程序调用 matplotlib 所生成的视图也内嵌在浏览器(Out)输出的页面中。另外 Ipython notebook 的 .ipynb 格式文件直接以 json、base64 编码保存所有输入输出为一个单独的文件，而这一文件格式在 Github 也得到了[支持](http://blog.jupyter.org/2015/05/07/rendering-notebooks-on-github/)，也可以[加速渲染](http://nbviewer.ipython.org/)。"
   ]
  },
  {
   "cell_type": "markdown",
   "metadata": {},
   "source": [
    "下面是一些数据分析的基本操作。"
   ]
  },
  {
   "cell_type": "code",
   "execution_count": 110,
   "metadata": {
    "collapsed": false
   },
   "outputs": [],
   "source": [
    "#print df.head() #查看文件标头\n",
    "#df.tail()       #查看文件末尾\n",
    "#df.describe()   #查看文件描述\n",
    "#df.index        #查看数据索引\n",
    "#df.values       #查看数据值\n",
    "#df.iloc[:,-2]                                #定位到所有行的倒数第2列\n",
    "#df.iloc[:,-2].value_counts()                 #统计此列所有值\n",
    "#df.iloc[:,-2].value_counts().plot()          #图形化显示\n",
    "#df.iloc[:,-2].value_counts().plot(kind='bar')#设定图形形状柱形图\n",
    "#df.iloc[:,-2].value_counts().plot(kind='bar').get_figure().savefig('/Users/chengang/Desktop/tt.pdf')#保存图片\n",
    "#df.iloc[:,-2].value_counts().hist()          #直方图"
   ]
  },
  {
   "cell_type": "markdown",
   "metadata": {},
   "source": [
    "我们搜集的是案列网站2006年3月至2015年5月100万的随机任务记录，占该网站总任务量600万的六分之一，因此我们认为这是一个具有代表性的数据源。\n",
    "鉴于这是一个任务悬赏式的网站，雇主首先贴出要求，竞标者出方案接标。因此我们首先关注一下这100万交易的成功比例。\n",
    "\n",
    "（注：100万任务中，有近一半在案例网站无内容记录，因此有效数据为50万）"
   ]
  },
  {
   "cell_type": "code",
   "execution_count": 9,
   "metadata": {
    "collapsed": false
   },
   "outputs": [
    {
     "data": {
      "text/html": [
       "<div style=\"max-height:1000px;max-width:1500px;overflow:auto;\">\n",
       "<table border=\"1\" class=\"dataframe\">\n",
       "  <thead>\n",
       "    <tr style=\"text-align: right;\">\n",
       "      <th></th>\n",
       "      <th>数量</th>\n",
       "    </tr>\n",
       "  </thead>\n",
       "  <tbody>\n",
       "    <tr>\n",
       "      <th>未成交</th>\n",
       "      <td>432244</td>\n",
       "    </tr>\n",
       "    <tr>\n",
       "      <th>已成交</th>\n",
       "      <td>112838</td>\n",
       "    </tr>\n",
       "  </tbody>\n",
       "</table>\n",
       "</div>"
      ],
      "text/plain": [
       "         数量\n",
       "未成交  432244\n",
       "已成交  112838"
      ]
     },
     "execution_count": 9,
     "metadata": {},
     "output_type": "execute_result"
    }
   ],
   "source": [
    "successPercent = df.iloc[:,2].value_counts().iloc[0:2]\n",
    "pd.DataFrame(successPercent,columns=['数量'])"
   ]
  },
  {
   "cell_type": "markdown",
   "metadata": {},
   "source": [
    "以上代码统计了数据中已成交和未成交项目的数量，分别为112838和432244，这是两个抽象的数字，数字的分析可以止步于此。然而在大数据的时代，关键的一步是让数据直观起来，将复杂的信息浓缩简化成我们的大脑可以立刻掌握的形式，这就是数据视图化(Data visualisation)的魅力所在，那么让我们直观地体验一下数据视图化的表现力。\n",
    "\n",
    "##步骤4视图化\n",
    "按照上述统计结果生成饼状图的代码如下："
   ]
  },
  {
   "cell_type": "code",
   "execution_count": 87,
   "metadata": {
    "collapsed": false
   },
   "outputs": [
    {
     "data": {
      "text/plain": [
       "<matplotlib.axes.AxesSubplot at 0x10c275cd0>"
      ]
     },
     "execution_count": 87,
     "metadata": {},
     "output_type": "execute_result"
    },
    {
     "data": {
      "image/png": "[encoded data removed]",
      "text/plain": [
       "<matplotlib.figure.Figure at 0x10c039810>"
      ]
     },
     "metadata": {},
     "output_type": "display_data"
    }
   ],
   "source": [
    "rcParams['savefig.dpi']=100#设定图片的DPI\n",
    "\n",
    "zhfont1= font_manager.FontProperties(fname='/Library/Fonts/Lantinghei.ttc')#设定中文字体\n",
    "zhfont2= font_manager.FontProperties(fname='/Library/Fonts/Hanzipen.ttc')\n",
    "zhfont3= font_manager.FontProperties(fname='/Library/Fonts/Yuanti.ttc')\n",
    "\n",
    "plt.title(u'案例网站任务数据分析',size=15,fontproperties=zhfont2)#直接指定字体\n",
    "plt.text(0.54,0.50,u\"已成交任务\",fontproperties='STHeiti',size=10) #设定图片内显示文本\n",
    "plt.text(-0.24,-0.51,u\" 未成交任务\",fontproperties='STHeiti',size=10) \n",
    "#'yellowgreen', 'gold', 'lightskyblue', 'lightcoral'#可用的饼图颜色\n",
    "df.iloc[:,2].value_counts().iloc[0:2].plot(kind='pie',labels= [u'A','B'],explode= (0, 0.07,),colors=['lightskyblue', 'gold'],shadow=True,autopct='%0.1f%%', startangle=90);#设定图形形状柱形图"
   ]
  },
  {
   "cell_type": "markdown",
   "metadata": {},
   "source": [
    "可以看到图中黄色部分代表已成交的任务，占总任务的 1/5 左右。也就是说，有百分之八十的任务是不了了之了。  \n",
    "\n",
    "我们很好奇这成交的任务中，到底有多少钱被投标者赚到，因此让我们统计一下这已成交任务中，排名前20的交易额。"
   ]
  },
  {
   "cell_type": "code",
   "execution_count": 113,
   "metadata": {
    "collapsed": false
   },
   "outputs": [
    {
     "data": {
      "text/html": [
       "<div style=\"max-height:1000px;max-width:1500px;overflow:auto;\">\n",
       "<table border=\"1\" class=\"dataframe\">\n",
       "  <thead>\n",
       "    <tr style=\"text-align: right;\">\n",
       "      <th></th>\n",
       "      <th>数量</th>\n",
       "    </tr>\n",
       "  </thead>\n",
       "  <tbody>\n",
       "    <tr>\n",
       "      <th>￥100.00</th>\n",
       "      <td>12477</td>\n",
       "    </tr>\n",
       "    <tr>\n",
       "      <th>￥300.00</th>\n",
       "      <td>6003</td>\n",
       "    </tr>\n",
       "    <tr>\n",
       "      <th>￥200.00</th>\n",
       "      <td>5932</td>\n",
       "    </tr>\n",
       "    <tr>\n",
       "      <th>￥500.00</th>\n",
       "      <td>5424</td>\n",
       "    </tr>\n",
       "    <tr>\n",
       "      <th>￥400.00</th>\n",
       "      <td>5301</td>\n",
       "    </tr>\n",
       "    <tr>\n",
       "      <th>￥1.00</th>\n",
       "      <td>5229</td>\n",
       "    </tr>\n",
       "    <tr>\n",
       "      <th>￥10.00</th>\n",
       "      <td>4510</td>\n",
       "    </tr>\n",
       "    <tr>\n",
       "      <th>￥50.00</th>\n",
       "      <td>4439</td>\n",
       "    </tr>\n",
       "    <tr>\n",
       "      <th>￥99.00</th>\n",
       "      <td>3486</td>\n",
       "    </tr>\n",
       "    <tr>\n",
       "      <th>￥1000.00</th>\n",
       "      <td>3016</td>\n",
       "    </tr>\n",
       "    <tr>\n",
       "      <th>￥600.00</th>\n",
       "      <td>2000</td>\n",
       "    </tr>\n",
       "    <tr>\n",
       "      <th>￥150.00</th>\n",
       "      <td>1856</td>\n",
       "    </tr>\n",
       "    <tr>\n",
       "      <th>￥800.00</th>\n",
       "      <td>1618</td>\n",
       "    </tr>\n",
       "    <tr>\n",
       "      <th>￥260.00</th>\n",
       "      <td>1511</td>\n",
       "    </tr>\n",
       "    <tr>\n",
       "      <th>￥20.00</th>\n",
       "      <td>1420</td>\n",
       "    </tr>\n",
       "    <tr>\n",
       "      <th>￥2000.00</th>\n",
       "      <td>1260</td>\n",
       "    </tr>\n",
       "    <tr>\n",
       "      <th>￥5.00</th>\n",
       "      <td>1243</td>\n",
       "    </tr>\n",
       "    <tr>\n",
       "      <th>￥60.00</th>\n",
       "      <td>1179</td>\n",
       "    </tr>\n",
       "    <tr>\n",
       "      <th>￥1500.00</th>\n",
       "      <td>1156</td>\n",
       "    </tr>\n",
       "    <tr>\n",
       "      <th>￥80.00</th>\n",
       "      <td>1124</td>\n",
       "    </tr>\n",
       "  </tbody>\n",
       "</table>\n",
       "</div>"
      ],
      "text/plain": [
       "             数量\n",
       "￥100.00   12477\n",
       "￥300.00    6003\n",
       "￥200.00    5932\n",
       "￥500.00    5424\n",
       "￥400.00    5301\n",
       "￥1.00      5229\n",
       "￥10.00     4510\n",
       "￥50.00     4439\n",
       "￥99.00     3486\n",
       "￥1000.00   3016\n",
       "￥600.00    2000\n",
       "￥150.00    1856\n",
       "￥800.00    1618\n",
       "￥260.00    1511\n",
       "￥20.00     1420\n",
       "￥2000.00   1260\n",
       "￥5.00      1243\n",
       "￥60.00     1179\n",
       "￥1500.00   1156\n",
       "￥80.00     1124"
      ]
     },
     "execution_count": 113,
     "metadata": {},
     "output_type": "execute_result"
    }
   ],
   "source": [
    "tradeOrder = df.iloc[:,3].value_counts().iloc[2:22]\n",
    "pd.DataFrame(tradeOrder, columns = ['数量'])"
   ]
  },
  {
   "cell_type": "code",
   "execution_count": 114,
   "metadata": {
    "collapsed": false
   },
   "outputs": [
    {
     "data": {
      "text/plain": [
       "<matplotlib.axes.AxesSubplot at 0x111b11550>"
      ]
     },
     "execution_count": 114,
     "metadata": {},
     "output_type": "execute_result"
    },
    {
     "data": {
      "image/png": "[encoded data removed]",
      "text/plain": [
       "<matplotlib.figure.Figure at 0x111b11710>"
      ]
     },
     "metadata": {},
     "output_type": "display_data"
    }
   ],
   "source": [
    "rcParams['savefig.dpi']=100#设定图片的DPI\n",
    "\n",
    "fig = plt.figure() #定义一个图片\n",
    "ax = fig.add_subplot(111) #划分1行1列选第1块坐标体系。  \n",
    "x = ax.xaxis #获取 x 轴坐标\n",
    "y = ax.yaxis \n",
    "xmajorLocator = matplotlib.ticker.MultipleLocator(1)#设定主 X 轴间隔为1的倍数\n",
    "x.set_major_locator(xmajorLocator)#加载定位器\n",
    "pic = df.iloc[:,3].value_counts().iloc[2:22].plot(kind = 'bar',color=(0,1,1))#图形化显示，选定RGB颜色，选定标记为点\n",
    "ax.set_xticklabels('abcdefg',fontproperties=zhfont1)#设定 X 轴坐标标签\n",
    "plt.title(u'案例网站数据分析',fontproperties=zhfont2,size=15)#设定图片标头及其属性\n",
    "plt.xlabel(u'成交价格',fontproperties=zhfont2,size=12)#设定横轴名称\n",
    "plt.ylabel(u'任务数量',fontproperties=zhfont2,size=12)#设定纵轴名称\n",
    "plt.legend((u'任务数量',), loc='upper right',prop=zhfont2)#设定图素标\n",
    "pic"
   ]
  },
  {
   "cell_type": "markdown",
   "metadata": {},
   "source": [
    "可以看到成交价格为100元的任务数量达到了12000个左右，占第一名，之后就是300元与200元的各6000个左右。 也就是说，前三甲的成交价格都不超过300元。"
   ]
  },
  {
   "cell_type": "markdown",
   "metadata": {},
   "source": [
    "再来看看到底有哪些任务是比较多的。"
   ]
  },
  {
   "cell_type": "code",
   "execution_count": 41,
   "metadata": {
    "collapsed": false
   },
   "outputs": [
    {
     "data": {
      "text/html": [
       "<div style=\"max-height:1000px;max-width:1500px;overflow:auto;\">\n",
       "<table border=\"1\" class=\"dataframe\">\n",
       "  <thead>\n",
       "    <tr style=\"text-align: right;\">\n",
       "      <th></th>\n",
       "      <th>数量</th>\n",
       "    </tr>\n",
       "  </thead>\n",
       "  <tbody>\n",
       "    <tr>\n",
       "      <th>LOGO设计</th>\n",
       "      <td>59228</td>\n",
       "    </tr>\n",
       "    <tr>\n",
       "      <th>网站制作</th>\n",
       "      <td>18671</td>\n",
       "    </tr>\n",
       "    <tr>\n",
       "      <th>推广注册</th>\n",
       "      <td>18084</td>\n",
       "    </tr>\n",
       "    <tr>\n",
       "      <th>论坛推广</th>\n",
       "      <td>15973</td>\n",
       "    </tr>\n",
       "    <tr>\n",
       "      <th>网络营销推广</th>\n",
       "      <td>13908</td>\n",
       "    </tr>\n",
       "    <tr>\n",
       "      <th>淘宝店铺推广</th>\n",
       "      <td>13495</td>\n",
       "    </tr>\n",
       "    <tr>\n",
       "      <th>桌面软件</th>\n",
       "      <td>10605</td>\n",
       "    </tr>\n",
       "    <tr>\n",
       "      <th>需求市场</th>\n",
       "      <td>10513</td>\n",
       "    </tr>\n",
       "    <tr>\n",
       "      <th>网页设计</th>\n",
       "      <td>10423</td>\n",
       "    </tr>\n",
       "    <tr>\n",
       "      <th>QQ群推广</th>\n",
       "      <td>9850</td>\n",
       "    </tr>\n",
       "    <tr>\n",
       "      <th>SEO</th>\n",
       "      <td>8601</td>\n",
       "    </tr>\n",
       "    <tr>\n",
       "      <th>其他软件开发</th>\n",
       "      <td>7488</td>\n",
       "    </tr>\n",
       "    <tr>\n",
       "      <th>品牌起名</th>\n",
       "      <td>7148</td>\n",
       "    </tr>\n",
       "    <tr>\n",
       "      <th>其他网络推广</th>\n",
       "      <td>6923</td>\n",
       "    </tr>\n",
       "    <tr>\n",
       "      <th>网络推广</th>\n",
       "      <td>5154</td>\n",
       "    </tr>\n",
       "    <tr>\n",
       "      <th>网店收藏分享</th>\n",
       "      <td>5139</td>\n",
       "    </tr>\n",
       "    <tr>\n",
       "      <th>公司起名</th>\n",
       "      <td>4438</td>\n",
       "    </tr>\n",
       "    <tr>\n",
       "      <th>APP推广</th>\n",
       "      <td>4362</td>\n",
       "    </tr>\n",
       "    <tr>\n",
       "      <th>产品包装设计</th>\n",
       "      <td>4215</td>\n",
       "    </tr>\n",
       "    <tr>\n",
       "      <th>商品图片处理</th>\n",
       "      <td>3103</td>\n",
       "    </tr>\n",
       "    <tr>\n",
       "      <th>宣传册设计</th>\n",
       "      <td>3088</td>\n",
       "    </tr>\n",
       "  </tbody>\n",
       "</table>\n",
       "</div>"
      ],
      "text/plain": [
       "           数量\n",
       "LOGO设计  59228\n",
       "网站制作    18671\n",
       "推广注册    18084\n",
       "论坛推广    15973\n",
       "网络营销推广  13908\n",
       "淘宝店铺推广  13495\n",
       "桌面软件    10605\n",
       "需求市场    10513\n",
       "网页设计    10423\n",
       "QQ群推广    9850\n",
       "SEO      8601\n",
       "其他软件开发   7488\n",
       "品牌起名     7148\n",
       "其他网络推广   6923\n",
       "网络推广     5154\n",
       "网店收藏分享   5139\n",
       "公司起名     4438\n",
       "APP推广    4362\n",
       "产品包装设计   4215\n",
       "商品图片处理   3103\n",
       "宣传册设计    3088"
      ]
     },
     "execution_count": 41,
     "metadata": {},
     "output_type": "execute_result"
    }
   ],
   "source": [
    "dutyNumber = df.iloc[:,9].value_counts().iloc[1:22]\n",
    "dno = pd.DataFrame(dutyNumber, columns=['数量'])\n",
    "dno"
   ]
  },
  {
   "cell_type": "code",
   "execution_count": 91,
   "metadata": {
    "collapsed": false
   },
   "outputs": [
    {
     "data": {
      "text/plain": [
       "<matplotlib.axes.AxesSubplot at 0x10db90990>"
      ]
     },
     "execution_count": 91,
     "metadata": {},
     "output_type": "execute_result"
    },
    {
     "data": {
      "image/png": "[encoded data removed]",
      "text/plain": [
       "<matplotlib.figure.Figure at 0x10db5cbd0>"
      ]
     },
     "metadata": {},
     "output_type": "display_data"
    }
   ],
   "source": [
    "rcParams['savefig.dpi']=100#设定图片的DPI\n",
    "\n",
    "fig = plt.figure()#定义一个图片\n",
    "ax = fig.add_subplot(111)#划分1行1列选第1块坐标系统。  \n",
    "xmajorLocator = matplotlib.ticker.MultipleLocator(1)#设定主 X 轴间隔为1的倍数\n",
    "ax.set_yticklabels('abcdefg',fontproperties=zhfont1)#设定 X 轴坐标标签\n",
    "\n",
    "#order重新排列, barh 水平柱状图图形化显示，选定RGB颜色，选定标记为点\n",
    "dutyPic = df.iloc[:,9].value_counts().iloc[1:22].order(ascending=True).plot(kind = 'barh',color=(0,1,0))\n",
    "plt.title(u'案例网站数据分析',fontproperties=zhfont2,size=15)#设定图片标头及其属性\n",
    "plt.xlabel(u'任务数量',fontproperties=zhfont2,size=12)#设定横轴名称\n",
    "plt.ylabel(u'任务类型',fontproperties=zhfont2,size=12)#设定纵轴名称\n",
    "plt.legend((u'任务数量',), loc='lower right',prop=zhfont2)#设定图素标\n",
    "dutyPic"
   ]
  },
  {
   "cell_type": "markdown",
   "metadata": {},
   "source": [
    "可以看到，Logo 设计达到了60000左右，名列第一；  \n",
    "第二名的是网站制作，达到了18000左右的数量；  \n",
    "第三第四第五第六可以统括为推广类的任务，总共6万左右。  "
   ]
  },
  {
   "cell_type": "markdown",
   "metadata": {},
   "source": [
    "我们想知道，这些发布任务的雇主，都是来自什么地方，首先统计一下雇主区域分布，代码如下："
   ]
  },
  {
   "cell_type": "code",
   "execution_count": 95,
   "metadata": {
    "collapsed": false
   },
   "outputs": [
    {
     "data": {
      "text/html": [
       "<div style=\"max-height:1000px;max-width:1500px;overflow:auto;\">\n",
       "<table border=\"1\" class=\"dataframe\">\n",
       "  <thead>\n",
       "    <tr style=\"text-align: right;\">\n",
       "      <th></th>\n",
       "      <th>数量</th>\n",
       "    </tr>\n",
       "  </thead>\n",
       "  <tbody>\n",
       "    <tr>\n",
       "      <th>浙江</th>\n",
       "      <td>796</td>\n",
       "    </tr>\n",
       "    <tr>\n",
       "      <th>广东</th>\n",
       "      <td>786</td>\n",
       "    </tr>\n",
       "    <tr>\n",
       "      <th>深圳</th>\n",
       "      <td>472</td>\n",
       "    </tr>\n",
       "    <tr>\n",
       "      <th>广州</th>\n",
       "      <td>374</td>\n",
       "    </tr>\n",
       "    <tr>\n",
       "      <th>长沙</th>\n",
       "      <td>294</td>\n",
       "    </tr>\n",
       "    <tr>\n",
       "      <th>上海</th>\n",
       "      <td>217</td>\n",
       "    </tr>\n",
       "    <tr>\n",
       "      <th>北京</th>\n",
       "      <td>212</td>\n",
       "    </tr>\n",
       "    <tr>\n",
       "      <th>杭州</th>\n",
       "      <td>199</td>\n",
       "    </tr>\n",
       "    <tr>\n",
       "      <th>烟台</th>\n",
       "      <td>189</td>\n",
       "    </tr>\n",
       "    <tr>\n",
       "      <th>武汉</th>\n",
       "      <td>187</td>\n",
       "    </tr>\n",
       "    <tr>\n",
       "      <th>江苏</th>\n",
       "      <td>185</td>\n",
       "    </tr>\n",
       "    <tr>\n",
       "      <th>重庆</th>\n",
       "      <td>179</td>\n",
       "    </tr>\n",
       "    <tr>\n",
       "      <th>东莞</th>\n",
       "      <td>161</td>\n",
       "    </tr>\n",
       "    <tr>\n",
       "      <th>福建</th>\n",
       "      <td>161</td>\n",
       "    </tr>\n",
       "    <tr>\n",
       "      <th>成都</th>\n",
       "      <td>128</td>\n",
       "    </tr>\n",
       "    <tr>\n",
       "      <th>山东</th>\n",
       "      <td>128</td>\n",
       "    </tr>\n",
       "    <tr>\n",
       "      <th>苏州</th>\n",
       "      <td>97</td>\n",
       "    </tr>\n",
       "    <tr>\n",
       "      <th>厦门</th>\n",
       "      <td>96</td>\n",
       "    </tr>\n",
       "    <tr>\n",
       "      <th>四川</th>\n",
       "      <td>88</td>\n",
       "    </tr>\n",
       "  </tbody>\n",
       "</table>\n",
       "</div>"
      ],
      "text/plain": [
       "     数量\n",
       "浙江  796\n",
       "广东  786\n",
       "深圳  472\n",
       "广州  374\n",
       "长沙  294\n",
       "上海  217\n",
       "北京  212\n",
       "杭州  199\n",
       "烟台  189\n",
       "武汉  187\n",
       "江苏  185\n",
       "重庆  179\n",
       "东莞  161\n",
       "福建  161\n",
       "成都  128\n",
       "山东  128\n",
       "苏州   97\n",
       "厦门   96\n",
       "四川   88"
      ]
     },
     "execution_count": 95,
     "metadata": {},
     "output_type": "execute_result"
    }
   ],
   "source": [
    "areaOrder = df.iloc[:,-2].value_counts().iloc[1:20]#统计各区域任务数量排名前20\n",
    "aoc = pd.DataFrame(areaOrder,columns=['数量'])\n",
    "aoc"
   ]
  },
  {
   "cell_type": "markdown",
   "metadata": {},
   "source": [
    "看视图："
   ]
  },
  {
   "cell_type": "code",
   "execution_count": 100,
   "metadata": {
    "collapsed": false,
    "scrolled": false
   },
   "outputs": [
    {
     "data": {
      "text/plain": [
       "<matplotlib.axes.AxesSubplot at 0x10e4c7a10>"
      ]
     },
     "execution_count": 100,
     "metadata": {},
     "output_type": "execute_result"
    },
    {
     "data": {
      "image/png": "[encoded data removed]",
      "text/plain": [
       "<matplotlib.figure.Figure at 0x10e4c7310>"
      ]
     },
     "metadata": {},
     "output_type": "display_data"
    }
   ],
   "source": [
    "rcParams['savefig.dpi']=100#设定图片的DPI\n",
    "\n",
    "fig = plt.figure()#定义一个图片\n",
    "ax = fig.add_subplot(111)#划分1行1列选第1块。  \n",
    "x = ax.xaxis#获取 x 轴坐标\n",
    "y = ax.yaxis#获取 y 轴坐标\n",
    "xmajorLocator = matplotlib.ticker.MultipleLocator(1)#设定主 X 轴间隔为1的倍数\n",
    "x.set_major_locator(xmajorLocator)#加载定位器\n",
    "ax.set_xticklabels('abcdefg',fontproperties=zhfont2)#设定 X 轴坐标标签\n",
    "\n",
    "aop = df.iloc[:,-2].value_counts().iloc[1:20].plot(color=(0,0,1),marker='o')#图形化显示，选定RGB颜色，选定标记为点\n",
    "plt.title(u'案例网站数据分析',fontproperties=zhfont2,size=15)#设定图片标头及其属性\n",
    "plt.xlabel(u'任务源所在区域',fontproperties=zhfont2,size=12)#设定横轴名称\n",
    "plt.ylabel(u'任务数量',fontproperties=zhfont2,size=12)#设定纵轴名称\n",
    "plt.legend((u'任务数量',), loc='upper right',prop=zhfont2)#设定图素标\n",
    "aop\n",
    "\n"
   ]
  },
  {
   "cell_type": "markdown",
   "metadata": {},
   "source": [
    "浙江，广东，深圳成为了前三甲，由此可见雇主以南方省份居多。那么我们还想进一步探究到底是哪些城市发布需求较为频繁，代码如下："
   ]
  },
  {
   "cell_type": "code",
   "execution_count": 103,
   "metadata": {
    "collapsed": false
   },
   "outputs": [
    {
     "data": {
      "text/html": [
       "<div style=\"max-height:1000px;max-width:1500px;overflow:auto;\">\n",
       "<table border=\"1\" class=\"dataframe\">\n",
       "  <thead>\n",
       "    <tr style=\"text-align: right;\">\n",
       "      <th></th>\n",
       "      <th>数量</th>\n",
       "    </tr>\n",
       "  </thead>\n",
       "  <tbody>\n",
       "    <tr>\n",
       "      <th>温州</th>\n",
       "      <td>545</td>\n",
       "    </tr>\n",
       "    <tr>\n",
       "      <th>深圳</th>\n",
       "      <td>209</td>\n",
       "    </tr>\n",
       "    <tr>\n",
       "      <th>广州</th>\n",
       "      <td>173</td>\n",
       "    </tr>\n",
       "    <tr>\n",
       "      <th>东莞</th>\n",
       "      <td>95</td>\n",
       "    </tr>\n",
       "    <tr>\n",
       "      <th>杭州</th>\n",
       "      <td>85</td>\n",
       "    </tr>\n",
       "    <tr>\n",
       "      <th>成都</th>\n",
       "      <td>59</td>\n",
       "    </tr>\n",
       "    <tr>\n",
       "      <th>武汉</th>\n",
       "      <td>57</td>\n",
       "    </tr>\n",
       "    <tr>\n",
       "      <th>厦门</th>\n",
       "      <td>55</td>\n",
       "    </tr>\n",
       "    <tr>\n",
       "      <th>南京</th>\n",
       "      <td>51</td>\n",
       "    </tr>\n",
       "    <tr>\n",
       "      <th>苏州</th>\n",
       "      <td>51</td>\n",
       "    </tr>\n",
       "    <tr>\n",
       "      <th>宁波</th>\n",
       "      <td>42</td>\n",
       "    </tr>\n",
       "    <tr>\n",
       "      <th>福州</th>\n",
       "      <td>42</td>\n",
       "    </tr>\n",
       "    <tr>\n",
       "      <th>嘉兴</th>\n",
       "      <td>40</td>\n",
       "    </tr>\n",
       "    <tr>\n",
       "      <th>郑州</th>\n",
       "      <td>39</td>\n",
       "    </tr>\n",
       "    <tr>\n",
       "      <th>金华</th>\n",
       "      <td>34</td>\n",
       "    </tr>\n",
       "    <tr>\n",
       "      <th>汕头</th>\n",
       "      <td>31</td>\n",
       "    </tr>\n",
       "    <tr>\n",
       "      <th>青岛</th>\n",
       "      <td>29</td>\n",
       "    </tr>\n",
       "    <tr>\n",
       "      <th>长沙</th>\n",
       "      <td>28</td>\n",
       "    </tr>\n",
       "    <tr>\n",
       "      <th>韶关</th>\n",
       "      <td>27</td>\n",
       "    </tr>\n",
       "  </tbody>\n",
       "</table>\n",
       "</div>"
      ],
      "text/plain": [
       "     数量\n",
       "温州  545\n",
       "深圳  209\n",
       "广州  173\n",
       "东莞   95\n",
       "杭州   85\n",
       "成都   59\n",
       "武汉   57\n",
       "厦门   55\n",
       "南京   51\n",
       "苏州   51\n",
       "宁波   42\n",
       "福州   42\n",
       "嘉兴   40\n",
       "郑州   39\n",
       "金华   34\n",
       "汕头   31\n",
       "青岛   29\n",
       "长沙   28\n",
       "韶关   27"
      ]
     },
     "execution_count": 103,
     "metadata": {},
     "output_type": "execute_result"
    }
   ],
   "source": [
    "cityOrder = df.iloc[:,-1].value_counts().iloc[1:20]#统计各城市任务数量排名前20\n",
    "coc = pd.DataFrame(cityOrder,columns=['数量'])\n",
    "coc"
   ]
  },
  {
   "cell_type": "code",
   "execution_count": 107,
   "metadata": {
    "collapsed": false
   },
   "outputs": [
    {
     "data": {
      "text/plain": [
       "<matplotlib.axes.AxesSubplot at 0x111403190>"
      ]
     },
     "execution_count": 107,
     "metadata": {},
     "output_type": "execute_result"
    },
    {
     "data": {
      "image/png": "[encoded data removed]",
      "text/plain": [
       "<matplotlib.figure.Figure at 0x111403390>"
      ]
     },
     "metadata": {},
     "output_type": "display_data"
    }
   ],
   "source": [
    "fig = plt.figure()#定义一个图片\n",
    "ax = fig.add_subplot(111)#划分1行1列选第1块。  \n",
    "x = ax.xaxis; xmajorLocator = matplotlib.ticker.MultipleLocator(1) #获取x,y轴坐标 #设定主 X 轴间隔为1的倍数\n",
    "x.set_major_locator(xmajorLocator)#加载 x 轴定位器\n",
    "ax.set_xticklabels('abcdefg',fontproperties=zhfont2)#设定 X 轴坐标标签字体\n",
    "\n",
    "cop = df.iloc[:,-1].value_counts().iloc[1:20].plot(color=(0,0,1),marker='o')#图形化显示，选定RGB颜色，选定标记为点\n",
    "plt.title(u'案例网站数据分析',fontproperties=zhfont2,size=15)\n",
    "plt.xlabel(u'任务源所在城市',fontproperties=zhfont2,size=12)\n",
    "plt.ylabel(u'任务数量',fontproperties=zhfont2,size=12)\n",
    "plt.legend((u'任务数量',), loc='upper right',prop=zhfont2)\n",
    "cop"
   ]
  },
  {
   "cell_type": "markdown",
   "metadata": {},
   "source": [
    "温州，这个来自浙江的城市，以545个任务超过第二名深圳两倍的数量名列第一。"
   ]
  },
  {
   "cell_type": "markdown",
   "metadata": {},
   "source": [
    "最后，让我们看看案例网站数据中第一条任务发布记录吧："
   ]
  },
  {
   "cell_type": "code",
   "execution_count": 115,
   "metadata": {
    "collapsed": false
   },
   "outputs": [
    {
     "data": {
      "text/html": [
       "<div style=\"max-height:1000px;max-width:1500px;overflow:auto;\">\n",
       "<table border=\"1\" class=\"dataframe\">\n",
       "  <thead>\n",
       "    <tr style=\"text-align: right;\">\n",
       "      <th></th>\n",
       "      <th>具体数据</th>\n",
       "    </tr>\n",
       "  </thead>\n",
       "  <tbody>\n",
       "    <tr>\n",
       "      <th>Unnamed: 0</th>\n",
       "      <td>458</td>\n",
       "    </tr>\n",
       "    <tr>\n",
       "      <th>Unnamed: 1</th>\n",
       "      <td>猪八戒网LOGO设计</td>\n",
       "    </tr>\n",
       "    <tr>\n",
       "      <th>Unnamed: 2</th>\n",
       "      <td>未成交</td>\n",
       "    </tr>\n",
       "    <tr>\n",
       "      <th>Unnamed: 3</th>\n",
       "      <td>/</td>\n",
       "    </tr>\n",
       "    <tr>\n",
       "      <th>Unnamed: 4</th>\n",
       "      <td>/</td>\n",
       "    </tr>\n",
       "    <tr>\n",
       "      <th>编号</th>\n",
       "      <td>500.00</td>\n",
       "    </tr>\n",
       "    <tr>\n",
       "      <th>项目名称</th>\n",
       "      <td>需求市场&gt;LOGO/VI设计&gt;LOGO设计</td>\n",
       "    </tr>\n",
       "    <tr>\n",
       "      <th>成交与否</th>\n",
       "      <td>需求市场</td>\n",
       "    </tr>\n",
       "    <tr>\n",
       "      <th>成交价</th>\n",
       "      <td>LOGO/VI设计</td>\n",
       "    </tr>\n",
       "    <tr>\n",
       "      <th>中标方</th>\n",
       "      <td>LOGO设计</td>\n",
       "    </tr>\n",
       "    <tr>\n",
       "      <th>预算</th>\n",
       "      <td>/</td>\n",
       "    </tr>\n",
       "    <tr>\n",
       "      <th>任务类型</th>\n",
       "      <td>/</td>\n",
       "    </tr>\n",
       "    <tr>\n",
       "      <th>类型层1</th>\n",
       "      <td>比稿</td>\n",
       "    </tr>\n",
       "    <tr>\n",
       "      <th>类型层2</th>\n",
       "      <td>一人独享该赏金</td>\n",
       "    </tr>\n",
       "    <tr>\n",
       "      <th>类型层3</th>\n",
       "      <td>实名认证 手机认证</td>\n",
       "    </tr>\n",
       "    <tr>\n",
       "      <th>类型层4</th>\n",
       "      <td>实名认证</td>\n",
       "    </tr>\n",
       "    <tr>\n",
       "      <th>类型层5</th>\n",
       "      <td>手机认证</td>\n",
       "    </tr>\n",
       "    <tr>\n",
       "      <th>交易模式</th>\n",
       "      <td>/</td>\n",
       "    </tr>\n",
       "    <tr>\n",
       "      <th>赏金分配</th>\n",
       "      <td>/</td>\n",
       "    </tr>\n",
       "    <tr>\n",
       "      <th>要求资格</th>\n",
       "      <td>/</td>\n",
       "    </tr>\n",
       "    <tr>\n",
       "      <th>资格1</th>\n",
       "      <td>2006-03-23</td>\n",
       "    </tr>\n",
       "    <tr>\n",
       "      <th>资格2</th>\n",
       "      <td>发布需求，托管赏金..</td>\n",
       "    </tr>\n",
       "    <tr>\n",
       "      <th>资格3</th>\n",
       "      <td>20060323</td>\n",
       "    </tr>\n",
       "    <tr>\n",
       "      <th>资格4</th>\n",
       "      <td>服务商交稿..</td>\n",
       "    </tr>\n",
       "    <tr>\n",
       "      <th>资格5</th>\n",
       "      <td>20060412</td>\n",
       "    </tr>\n",
       "    <tr>\n",
       "      <th>开始时间</th>\n",
       "      <td>雇主选稿..</td>\n",
       "    </tr>\n",
       "    <tr>\n",
       "      <th>交易步骤1</th>\n",
       "      <td>20060412</td>\n",
       "    </tr>\n",
       "    <tr>\n",
       "      <th>时间1</th>\n",
       "      <td>中标公示..</td>\n",
       "    </tr>\n",
       "    <tr>\n",
       "      <th>交易步骤2</th>\n",
       "      <td>20060415</td>\n",
       "    </tr>\n",
       "    <tr>\n",
       "      <th>时间2</th>\n",
       "      <td>验收并付款</td>\n",
       "    </tr>\n",
       "    <tr>\n",
       "      <th>交易步骤3</th>\n",
       "      <td>NaN</td>\n",
       "    </tr>\n",
       "    <tr>\n",
       "      <th>时间3</th>\n",
       "      <td>评价</td>\n",
       "    </tr>\n",
       "    <tr>\n",
       "      <th>交易步骤4</th>\n",
       "      <td>NaN</td>\n",
       "    </tr>\n",
       "    <tr>\n",
       "      <th>时间4</th>\n",
       "      <td>/</td>\n",
       "    </tr>\n",
       "    <tr>\n",
       "      <th>交易步骤5</th>\n",
       "      <td>/</td>\n",
       "    </tr>\n",
       "    <tr>\n",
       "      <th>时间5</th>\n",
       "      <td>\"任务内容：为猪八戒在线悬赏平台设计一个logo建议包括如下元素</td>\n",
       "    </tr>\n",
       "    <tr>\n",
       "      <th>交易步骤6</th>\n",
       "      <td>1.包含英文域名zhubajie.com.cn2.包含网站中文名：猪八戒在线悬赏平台3.包含...</td>\n",
       "    </tr>\n",
       "    <tr>\n",
       "      <th>时间6</th>\n",
       "      <td>也可以自由发挥. 猪八戒欢迎你拿出特别牛的作品，但是一定要给出你设计的理由 理念。6、还有...</td>\n",
       "    </tr>\n",
       "    <tr>\n",
       "      <th>交易步骤7</th>\n",
       "      <td>NaN</td>\n",
       "    </tr>\n",
       "    <tr>\n",
       "      <th>时间7</th>\n",
       "      <td>不一定要像大旗网LOGO那样特别动</td>\n",
       "    </tr>\n",
       "    <tr>\n",
       "      <th>具体要求</th>\n",
       "      <td>但也至少要有一点儿动感创意7、LOGO要与现在本站首页的风格匹配，有首页应用效果图。\"</td>\n",
       "    </tr>\n",
       "    <tr>\n",
       "      <th>雇主地址</th>\n",
       "      <td>重庆 重庆</td>\n",
       "    </tr>\n",
       "    <tr>\n",
       "      <th>地址层1</th>\n",
       "      <td>重庆</td>\n",
       "    </tr>\n",
       "    <tr>\n",
       "      <th>地址层2</th>\n",
       "      <td>/</td>\n",
       "    </tr>\n",
       "  </tbody>\n",
       "</table>\n",
       "</div>"
      ],
      "text/plain": [
       "                                                         具体数据\n",
       "Unnamed: 0                                                458\n",
       "Unnamed: 1                                         猪八戒网LOGO设计\n",
       "Unnamed: 2                                                未成交\n",
       "Unnamed: 3                                                  /\n",
       "Unnamed: 4                                                  /\n",
       "编号                                                     500.00\n",
       "项目名称                                    需求市场>LOGO/VI设计>LOGO设计\n",
       "成交与否                                                     需求市场\n",
       "成交价                                                 LOGO/VI设计\n",
       "中标方                                                    LOGO设计\n",
       "预算                                                          /\n",
       "任务类型                                                        /\n",
       "类型层1                                                       比稿\n",
       "类型层2                                                  一人独享该赏金\n",
       "类型层3                                                实名认证 手机认证\n",
       "类型层4                                                     实名认证\n",
       "类型层5                                                     手机认证\n",
       "交易模式                                                        /\n",
       "赏金分配                                                        /\n",
       "要求资格                                                        /\n",
       "资格1                                                2006-03-23\n",
       "资格2                                               发布需求，托管赏金..\n",
       "资格3                                                  20060323\n",
       "资格4                                                   服务商交稿..\n",
       "资格5                                                  20060412\n",
       "开始时间                                                   雇主选稿..\n",
       "交易步骤1                                                20060412\n",
       "时间1                                                    中标公示..\n",
       "交易步骤2                                                20060415\n",
       "时间2                                                     验收并付款\n",
       "交易步骤3                                                     NaN\n",
       "时间3                                                        评价\n",
       "交易步骤4                                                     NaN\n",
       "时间4                                                         /\n",
       "交易步骤5                                                       /\n",
       "时间5                          \"任务内容：为猪八戒在线悬赏平台设计一个logo建议包括如下元素\n",
       "交易步骤6       1.包含英文域名zhubajie.com.cn2.包含网站中文名：猪八戒在线悬赏平台3.包含...\n",
       "时间6          也可以自由发挥. 猪八戒欢迎你拿出特别牛的作品，但是一定要给出你设计的理由 理念。6、还有...\n",
       "交易步骤7                                                     NaN\n",
       "时间7                                         不一定要像大旗网LOGO那样特别动\n",
       "具体要求              但也至少要有一点儿动感创意7、LOGO要与现在本站首页的风格匹配，有首页应用效果图。\"\n",
       "雇主地址                                                   重庆 重庆 \n",
       "地址层1                                                       重庆\n",
       "地址层2                                                        /"
      ]
     },
     "execution_count": 115,
     "metadata": {},
     "output_type": "execute_result"
    }
   ],
   "source": [
    "firstRecord = df.loc[0]\n",
    "frinfo = pd.DataFrame(firstRecord,columns=['具体数据'])\n",
    "frinfo"
   ]
  }
 ],
 "metadata": {
  "kernelspec": {
   "display_name": "Python 2",
   "language": "python",
   "name": "python2"
  },
  "language_info": {
   "codemirror_mode": {
    "name": "ipython",
    "version": 2
   },
   "file_extension": ".py",
   "mimetype": "text/x-python",
   "name": "python",
   "nbconvert_exporter": "python",
   "pygments_lexer": "ipython2",
   "version": "2.7.6"
  }
 },
 "nbformat": 4,
 "nbformat_minor": 0
}
